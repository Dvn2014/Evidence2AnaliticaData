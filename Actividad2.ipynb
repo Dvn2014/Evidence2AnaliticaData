{
  "nbformat": 4,
  "nbformat_minor": 0,
  "metadata": {
    "colab": {
      "provenance": [],
      "include_colab_link": true
    },
    "kernelspec": {
      "name": "python3",
      "display_name": "Python 3"
    },
    "language_info": {
      "name": "python"
    }
  },
  "cells": [
    {
      "cell_type": "markdown",
      "metadata": {
        "id": "view-in-github",
        "colab_type": "text"
      },
      "source": [
        "<a href=\"https://colab.research.google.com/github/Dvn2014/Evidence2AnaliticaData/blob/main/Actividad2.ipynb\" target=\"_parent\"><img src=\"https://colab.research.google.com/assets/colab-badge.svg\" alt=\"Open In Colab\"/></a>"
      ]
    },
    {
      "cell_type": "markdown",
      "source": [
        "# <span style=\"color:#809bd8\"> **Programación para Análisis de Datos**</span>\n",
        "\n",
        "## <span style=\"color:#809bd8\">**Evidencia de aprendizaje 2. Optimizando la productividad en el mundo del software**</span>\n",
        "\n",
        "---\n",
        "**<span style=\"color:#809bd8\">Program:</span>** **Programación para Análisis de Datos**\n",
        "\n",
        "**<span style=\"color:#809bd8\">Course:</span>** **Data Analysis Programming**\n",
        "\n",
        "**<span style=\"color:#809bd8\">Group:</span>** **PREICA2402B020101**\n",
        "\n",
        "**<span style=\"color:#809bd8\">Teacher:</span>** **Andrés Felipe Palacio Angel**\n",
        "\n",
        "**<span style=\"color:#809bd8\">Student:</span>** **Duvan Alexis Henao Gomezs**\n",
        "\n",
        "\n",
        "\n",
        "**<span style=\"color:#809bd8\">University:</span>** **Institución Universitaria Digital de Antioquia – IUDIGITAL**\n",
        "\n",
        "**<span style=\"color:#809bd8\">Date:</span>** **24/11/2024**\n"
      ],
      "metadata": {
        "id": "3YyKGV0Xy0VE"
      }
    },
    {
      "cell_type": "markdown",
      "source": [
        "**INTRODUCCIÓN**\n",
        "\n",
        "La **guitarra eléctrica** es un instrumento fundamental en la música contemporánea, utilizado en una variedad de géneros que van desde el rock hasta el jazz. Con el auge del comercio electrónico, plataformas como **Mercado Libre** se han convertido en un recurso valioso para los consumidores que buscan adquirir guitarras eléctricas. En esta práctica, me propongo analizar el mercado de guitarras eléctricas en esta plataforma, utilizando técnicas de web scraping con Selenium y Scrapy. Al recopilar y examinar datos sobre la variedad de productos, precios y opiniones de los usuarios, espero identificar tendencias que puedan ofrecer insights sobre las preferencias de los consumidores y el posicionamiento de los productos en el mercado actual."
      ],
      "metadata": {
        "id": "j9g_b_pWYUoL"
      }
    },
    {
      "cell_type": "markdown",
      "source": [
        "**Descripción de la página y artículo a analiza**\n",
        "\n",
        "Voy a analizar la sección de guitarras eléctricas en Mercado Libre, donde se ofrecen diversas marcas y modelos de este popular instrumento musical. Evaluaré la información disponible sobre precios, características y opiniones de los usuarios para entender mejor las tendencias y preferencias del mercado."
      ],
      "metadata": {
        "id": "NyeoifMAYk0a"
      }
    },
    {
      "cell_type": "markdown",
      "source": [
        "**Descripción del tema de interés que deseas desarrollar en la primera práctica.**\n",
        "\n",
        "En la primera práctica, quiero desarrollar un análisis de mercado de guitarras eléctricas en Mercado Libre. Utilizando técnicas de web scraping con herramientas como Selenium y Scrapy, recopilaré datos sobre los productos disponibles, incluyendo marcas, modelos, precios y características. Este análisis me permitirá identificar tendencias del mercado, evaluar la competencia y entender las preferencias de los consumidores, con el objetivo de formular recomendaciones para mejorar las estrategias comerciales de las empresas en este sector."
      ],
      "metadata": {
        "id": "8vrWd6yLYtVt"
      }
    },
    {
      "cell_type": "markdown",
      "source": [
        "**Objetivos: formula los objetivos a partir de la siguiente pregunta: ¿por qué deseas analizar este artículo y la empresa de comercio?**\n",
        "\n",
        "- Identificar tendencias de mercado: Analizar los títulos y descripciones de las guitarras eléctricas en Mercado Libre para identificar las tendencias actuales en preferencias de los consumidores y los tipos de productos más buscados.\n",
        "\n",
        "- Evaluar la competencia: Investigar cómo se posiciona la empresa en el mercado de guitarras eléctricas, comparando precios, características y reseñas de productos con competidores.\n",
        "\n",
        "- Entender el comportamiento del consumidor: Examinar las opiniones y calificaciones de los usuarios sobre los productos analizados para entender qué características son más valoradas por los consumidores.\n",
        "\n",
        "- Optimizar estrategias de marketing: Usar los datos recopilados para desarrollar recomendaciones sobre cómo mejorar la estrategia de marketing y ventas de la empresa, alineando su oferta con las necesidades y deseos del mercado.\n",
        "\n",
        "- Monitorear cambios en la oferta: Realizar un seguimiento de las variaciones en los listados de productos, precios y promociones en el tiempo para identificar patrones o cambios significativos en el mercado de guitarras eléctricas."
      ],
      "metadata": {
        "id": "ycoUgyw_YkeC"
      }
    },
    {
      "cell_type": "markdown",
      "source": [
        "**Metodología empleada de scraping.**\n",
        "\n"
      ],
      "metadata": {
        "id": "646MhIeBwJEr"
      }
    },
    {
      "cell_type": "code",
      "source": [
        "# Instalación de los paquetes\n",
        "\n",
        "!pip install selenium\n",
        "!apt-get update\n",
        "!apt install chromium-chromedriver\n",
        "!cp /usr/lib/chromium-browser/chromedriver /usr/bin"
      ],
      "metadata": {
        "colab": {
          "base_uri": "https://localhost:8080/"
        },
        "id": "KACd6oJM4nzN",
        "outputId": "545f467b-a122-4cb0-d79e-611ec3fa971c"
      },
      "execution_count": 11,
      "outputs": [
        {
          "output_type": "stream",
          "name": "stdout",
          "text": [
            "Collecting selenium\n",
            "  Downloading selenium-4.27.1-py3-none-any.whl.metadata (7.1 kB)\n",
            "Requirement already satisfied: urllib3<3,>=1.26 in /usr/local/lib/python3.10/dist-packages (from urllib3[socks]<3,>=1.26->selenium) (2.2.3)\n",
            "Collecting trio~=0.17 (from selenium)\n",
            "  Downloading trio-0.27.0-py3-none-any.whl.metadata (8.6 kB)\n",
            "Collecting trio-websocket~=0.9 (from selenium)\n",
            "  Downloading trio_websocket-0.11.1-py3-none-any.whl.metadata (4.7 kB)\n",
            "Requirement already satisfied: certifi>=2021.10.8 in /usr/local/lib/python3.10/dist-packages (from selenium) (2024.8.30)\n",
            "Requirement already satisfied: typing_extensions~=4.9 in /usr/local/lib/python3.10/dist-packages (from selenium) (4.12.2)\n",
            "Requirement already satisfied: websocket-client~=1.8 in /usr/local/lib/python3.10/dist-packages (from selenium) (1.8.0)\n",
            "Requirement already satisfied: attrs>=23.2.0 in /usr/local/lib/python3.10/dist-packages (from trio~=0.17->selenium) (24.2.0)\n",
            "Collecting sortedcontainers (from trio~=0.17->selenium)\n",
            "  Downloading sortedcontainers-2.4.0-py2.py3-none-any.whl.metadata (10 kB)\n",
            "Requirement already satisfied: idna in /usr/local/lib/python3.10/dist-packages (from trio~=0.17->selenium) (3.10)\n",
            "Collecting outcome (from trio~=0.17->selenium)\n",
            "  Downloading outcome-1.3.0.post0-py2.py3-none-any.whl.metadata (2.6 kB)\n",
            "Requirement already satisfied: sniffio>=1.3.0 in /usr/local/lib/python3.10/dist-packages (from trio~=0.17->selenium) (1.3.1)\n",
            "Requirement already satisfied: exceptiongroup in /usr/local/lib/python3.10/dist-packages (from trio~=0.17->selenium) (1.2.2)\n",
            "Collecting wsproto>=0.14 (from trio-websocket~=0.9->selenium)\n",
            "  Downloading wsproto-1.2.0-py3-none-any.whl.metadata (5.6 kB)\n",
            "Requirement already satisfied: pysocks!=1.5.7,<2.0,>=1.5.6 in /usr/local/lib/python3.10/dist-packages (from urllib3[socks]<3,>=1.26->selenium) (1.7.1)\n",
            "Requirement already satisfied: h11<1,>=0.9.0 in /usr/local/lib/python3.10/dist-packages (from wsproto>=0.14->trio-websocket~=0.9->selenium) (0.14.0)\n",
            "Downloading selenium-4.27.1-py3-none-any.whl (9.7 MB)\n",
            "\u001b[2K   \u001b[90m━━━━━━━━━━━━━━━━━━━━━━━━━━━━━━━━━━━━━━━━\u001b[0m \u001b[32m9.7/9.7 MB\u001b[0m \u001b[31m62.8 MB/s\u001b[0m eta \u001b[36m0:00:00\u001b[0m\n",
            "\u001b[?25hDownloading trio-0.27.0-py3-none-any.whl (481 kB)\n",
            "\u001b[2K   \u001b[90m━━━━━━━━━━━━━━━━━━━━━━━━━━━━━━━━━━━━━━━━\u001b[0m \u001b[32m481.7/481.7 kB\u001b[0m \u001b[31m32.6 MB/s\u001b[0m eta \u001b[36m0:00:00\u001b[0m\n",
            "\u001b[?25hDownloading trio_websocket-0.11.1-py3-none-any.whl (17 kB)\n",
            "Downloading wsproto-1.2.0-py3-none-any.whl (24 kB)\n",
            "Downloading outcome-1.3.0.post0-py2.py3-none-any.whl (10 kB)\n",
            "Downloading sortedcontainers-2.4.0-py2.py3-none-any.whl (29 kB)\n",
            "Installing collected packages: sortedcontainers, wsproto, outcome, trio, trio-websocket, selenium\n",
            "Successfully installed outcome-1.3.0.post0 selenium-4.27.1 sortedcontainers-2.4.0 trio-0.27.0 trio-websocket-0.11.1 wsproto-1.2.0\n",
            "Get:1 https://cloud.r-project.org/bin/linux/ubuntu jammy-cran40/ InRelease [3,626 B]\n",
            "Hit:2 http://archive.ubuntu.com/ubuntu jammy InRelease\n",
            "Get:3 http://archive.ubuntu.com/ubuntu jammy-updates InRelease [128 kB]\n",
            "Get:4 https://developer.download.nvidia.com/compute/cuda/repos/ubuntu2204/x86_64  InRelease [1,581 B]\n",
            "Get:5 https://r2u.stat.illinois.edu/ubuntu jammy InRelease [6,555 B]\n",
            "Get:6 http://security.ubuntu.com/ubuntu jammy-security InRelease [129 kB]\n",
            "Get:7 http://archive.ubuntu.com/ubuntu jammy-backports InRelease [127 kB]\n",
            "Get:8 https://developer.download.nvidia.com/compute/cuda/repos/ubuntu2204/x86_64  Packages [1,192 kB]\n",
            "Get:9 https://r2u.stat.illinois.edu/ubuntu jammy/main amd64 Packages [2,626 kB]\n",
            "Get:10 http://archive.ubuntu.com/ubuntu jammy-updates/main amd64 Packages [2,738 kB]\n",
            "Get:11 https://ppa.launchpadcontent.net/deadsnakes/ppa/ubuntu jammy InRelease [18.1 kB]\n",
            "Get:12 https://r2u.stat.illinois.edu/ubuntu jammy/main all Packages [8,531 kB]\n",
            "Hit:13 https://ppa.launchpadcontent.net/graphics-drivers/ppa/ubuntu jammy InRelease\n",
            "Hit:14 https://ppa.launchpadcontent.net/ubuntugis/ppa/ubuntu jammy InRelease\n",
            "Get:15 http://security.ubuntu.com/ubuntu jammy-security/main amd64 Packages [2,454 kB]\n",
            "Get:16 https://ppa.launchpadcontent.net/deadsnakes/ppa/ubuntu jammy/main amd64 Packages [32.9 kB]\n",
            "Fetched 18.0 MB in 2s (9,207 kB/s)\n",
            "Reading package lists... Done\n",
            "W: Skipping acquire of configured file 'main/source/Sources' as repository 'https://r2u.stat.illinois.edu/ubuntu jammy InRelease' does not seem to provide it (sources.list entry misspelt?)\n",
            "Reading package lists... Done\n",
            "Building dependency tree... Done\n",
            "Reading state information... Done\n",
            "The following additional packages will be installed:\n",
            "  apparmor chromium-browser libfuse3-3 liblzo2-2 libudev1 snapd squashfs-tools systemd-hwe-hwdb\n",
            "  udev\n",
            "Suggested packages:\n",
            "  apparmor-profiles-extra apparmor-utils fuse3 zenity | kdialog\n",
            "The following NEW packages will be installed:\n",
            "  apparmor chromium-browser chromium-chromedriver libfuse3-3 liblzo2-2 snapd squashfs-tools\n",
            "  systemd-hwe-hwdb udev\n",
            "The following packages will be upgraded:\n",
            "  libudev1\n",
            "1 upgraded, 9 newly installed, 0 to remove and 51 not upgraded.\n",
            "Need to get 30.2 MB of archives.\n",
            "After this operation, 123 MB of additional disk space will be used.\n",
            "Get:1 http://archive.ubuntu.com/ubuntu jammy-updates/main amd64 apparmor amd64 3.0.4-2ubuntu2.4 [598 kB]\n",
            "Get:2 http://archive.ubuntu.com/ubuntu jammy/main amd64 liblzo2-2 amd64 2.10-2build3 [53.7 kB]\n",
            "Get:3 http://archive.ubuntu.com/ubuntu jammy/main amd64 squashfs-tools amd64 1:4.5-3build1 [159 kB]\n",
            "Get:4 http://archive.ubuntu.com/ubuntu jammy-updates/main amd64 libudev1 amd64 249.11-0ubuntu3.12 [78.2 kB]\n",
            "Get:5 http://archive.ubuntu.com/ubuntu jammy-updates/main amd64 udev amd64 249.11-0ubuntu3.12 [1,557 kB]\n",
            "Get:6 http://archive.ubuntu.com/ubuntu jammy/main amd64 libfuse3-3 amd64 3.10.5-1build1 [81.2 kB]\n",
            "Get:7 http://archive.ubuntu.com/ubuntu jammy-updates/main amd64 snapd amd64 2.66.1+22.04 [27.6 MB]\n",
            "Get:8 http://archive.ubuntu.com/ubuntu jammy-updates/universe amd64 chromium-browser amd64 1:85.0.4183.83-0ubuntu2.22.04.1 [49.2 kB]\n",
            "Get:9 http://archive.ubuntu.com/ubuntu jammy-updates/universe amd64 chromium-chromedriver amd64 1:85.0.4183.83-0ubuntu2.22.04.1 [2,308 B]\n",
            "Get:10 http://archive.ubuntu.com/ubuntu jammy-updates/main amd64 systemd-hwe-hwdb all 249.11.5 [3,228 B]\n",
            "Fetched 30.2 MB in 1s (45.7 MB/s)\n",
            "Preconfiguring packages ...\n",
            "Selecting previously unselected package apparmor.\n",
            "(Reading database ... 123632 files and directories currently installed.)\n",
            "Preparing to unpack .../apparmor_3.0.4-2ubuntu2.4_amd64.deb ...\n",
            "Unpacking apparmor (3.0.4-2ubuntu2.4) ...\n",
            "Selecting previously unselected package liblzo2-2:amd64.\n",
            "Preparing to unpack .../liblzo2-2_2.10-2build3_amd64.deb ...\n",
            "Unpacking liblzo2-2:amd64 (2.10-2build3) ...\n",
            "Selecting previously unselected package squashfs-tools.\n",
            "Preparing to unpack .../squashfs-tools_1%3a4.5-3build1_amd64.deb ...\n",
            "Unpacking squashfs-tools (1:4.5-3build1) ...\n",
            "Preparing to unpack .../libudev1_249.11-0ubuntu3.12_amd64.deb ...\n",
            "Unpacking libudev1:amd64 (249.11-0ubuntu3.12) over (249.11-0ubuntu3.10) ...\n",
            "Setting up libudev1:amd64 (249.11-0ubuntu3.12) ...\n",
            "Selecting previously unselected package udev.\n",
            "(Reading database ... 123840 files and directories currently installed.)\n",
            "Preparing to unpack .../udev_249.11-0ubuntu3.12_amd64.deb ...\n",
            "Unpacking udev (249.11-0ubuntu3.12) ...\n",
            "Selecting previously unselected package libfuse3-3:amd64.\n",
            "Preparing to unpack .../libfuse3-3_3.10.5-1build1_amd64.deb ...\n",
            "Unpacking libfuse3-3:amd64 (3.10.5-1build1) ...\n",
            "Selecting previously unselected package snapd.\n",
            "Preparing to unpack .../snapd_2.66.1+22.04_amd64.deb ...\n",
            "Unpacking snapd (2.66.1+22.04) ...\n",
            "Setting up apparmor (3.0.4-2ubuntu2.4) ...\n",
            "Created symlink /etc/systemd/system/sysinit.target.wants/apparmor.service → /lib/systemd/system/apparmor.service.\n",
            "Setting up liblzo2-2:amd64 (2.10-2build3) ...\n",
            "Setting up squashfs-tools (1:4.5-3build1) ...\n",
            "Setting up udev (249.11-0ubuntu3.12) ...\n",
            "invoke-rc.d: could not determine current runlevel\n",
            "invoke-rc.d: policy-rc.d denied execution of start.\n",
            "Setting up libfuse3-3:amd64 (3.10.5-1build1) ...\n",
            "Setting up snapd (2.66.1+22.04) ...\n",
            "Created symlink /etc/systemd/system/multi-user.target.wants/snapd.apparmor.service → /lib/systemd/system/snapd.apparmor.service.\n",
            "Created symlink /etc/systemd/system/multi-user.target.wants/snapd.autoimport.service → /lib/systemd/system/snapd.autoimport.service.\n",
            "Created symlink /etc/systemd/system/multi-user.target.wants/snapd.core-fixup.service → /lib/systemd/system/snapd.core-fixup.service.\n",
            "Created symlink /etc/systemd/system/multi-user.target.wants/snapd.recovery-chooser-trigger.service → /lib/systemd/system/snapd.recovery-chooser-trigger.service.\n",
            "Created symlink /etc/systemd/system/multi-user.target.wants/snapd.seeded.service → /lib/systemd/system/snapd.seeded.service.\n",
            "Created symlink /etc/systemd/system/cloud-final.service.wants/snapd.seeded.service → /lib/systemd/system/snapd.seeded.service.\n",
            "Unit /lib/systemd/system/snapd.seeded.service is added as a dependency to a non-existent unit cloud-final.service.\n",
            "Created symlink /etc/systemd/system/multi-user.target.wants/snapd.service → /lib/systemd/system/snapd.service.\n",
            "Created symlink /etc/systemd/system/timers.target.wants/snapd.snap-repair.timer → /lib/systemd/system/snapd.snap-repair.timer.\n",
            "Created symlink /etc/systemd/system/sockets.target.wants/snapd.socket → /lib/systemd/system/snapd.socket.\n",
            "Created symlink /etc/systemd/system/final.target.wants/snapd.system-shutdown.service → /lib/systemd/system/snapd.system-shutdown.service.\n",
            "Selecting previously unselected package chromium-browser.\n",
            "(Reading database ... 124069 files and directories currently installed.)\n",
            "Preparing to unpack .../chromium-browser_1%3a85.0.4183.83-0ubuntu2.22.04.1_amd64.deb ...\n",
            "=> Installing the chromium snap\n",
            "==> Checking connectivity with the snap store\n",
            "===> System doesn't have a working snapd, skipping\n",
            "Unpacking chromium-browser (1:85.0.4183.83-0ubuntu2.22.04.1) ...\n",
            "Selecting previously unselected package chromium-chromedriver.\n",
            "Preparing to unpack .../chromium-chromedriver_1%3a85.0.4183.83-0ubuntu2.22.04.1_amd64.deb ...\n",
            "Unpacking chromium-chromedriver (1:85.0.4183.83-0ubuntu2.22.04.1) ...\n",
            "Selecting previously unselected package systemd-hwe-hwdb.\n",
            "Preparing to unpack .../systemd-hwe-hwdb_249.11.5_all.deb ...\n",
            "Unpacking systemd-hwe-hwdb (249.11.5) ...\n",
            "Setting up systemd-hwe-hwdb (249.11.5) ...\n",
            "Setting up chromium-browser (1:85.0.4183.83-0ubuntu2.22.04.1) ...\n",
            "update-alternatives: using /usr/bin/chromium-browser to provide /usr/bin/x-www-browser (x-www-browser) in auto mode\n",
            "update-alternatives: using /usr/bin/chromium-browser to provide /usr/bin/gnome-www-browser (gnome-www-browser) in auto mode\n",
            "Setting up chromium-chromedriver (1:85.0.4183.83-0ubuntu2.22.04.1) ...\n",
            "Processing triggers for udev (249.11-0ubuntu3.12) ...\n",
            "Processing triggers for hicolor-icon-theme (0.17-2) ...\n",
            "Processing triggers for libc-bin (2.35-0ubuntu3.4) ...\n",
            "/sbin/ldconfig.real: /usr/local/lib/libtbb.so.12 is not a symbolic link\n",
            "\n",
            "/sbin/ldconfig.real: /usr/local/lib/libtcm.so.1 is not a symbolic link\n",
            "\n",
            "/sbin/ldconfig.real: /usr/local/lib/libtbbmalloc_proxy.so.2 is not a symbolic link\n",
            "\n",
            "/sbin/ldconfig.real: /usr/local/lib/libhwloc.so.15 is not a symbolic link\n",
            "\n",
            "/sbin/ldconfig.real: /usr/local/lib/libtbbmalloc.so.2 is not a symbolic link\n",
            "\n",
            "/sbin/ldconfig.real: /usr/local/lib/libur_adapter_level_zero.so.0 is not a symbolic link\n",
            "\n",
            "/sbin/ldconfig.real: /usr/local/lib/libtbbbind_2_5.so.3 is not a symbolic link\n",
            "\n",
            "/sbin/ldconfig.real: /usr/local/lib/libtcm_debug.so.1 is not a symbolic link\n",
            "\n",
            "/sbin/ldconfig.real: /usr/local/lib/libumf.so.0 is not a symbolic link\n",
            "\n",
            "/sbin/ldconfig.real: /usr/local/lib/libtbbbind_2_0.so.3 is not a symbolic link\n",
            "\n",
            "/sbin/ldconfig.real: /usr/local/lib/libtbbbind.so.3 is not a symbolic link\n",
            "\n",
            "/sbin/ldconfig.real: /usr/local/lib/libur_adapter_opencl.so.0 is not a symbolic link\n",
            "\n",
            "/sbin/ldconfig.real: /usr/local/lib/libur_loader.so.0 is not a symbolic link\n",
            "\n",
            "Processing triggers for man-db (2.10.2-1) ...\n",
            "Processing triggers for dbus (1.12.20-2ubuntu4.1) ...\n",
            "cp: '/usr/lib/chromium-browser/chromedriver' and '/usr/bin/chromedriver' are the same file\n"
          ]
        }
      ]
    },
    {
      "cell_type": "code",
      "source": [
        "from selenium import webdriver\n",
        "from selenium.webdriver.common.by import By\n",
        "import time\n",
        "\n",
        "\n",
        "options= webdriver.ChromeOptions()\n",
        "options.add_argument('--headless')\n",
        "options.add_argument('--no-sandbox')\n",
        "options.add_argument('--disable-dev-shm-usage')\n",
        "\n",
        "\n",
        "driver = webdriver.Chrome(options=options)\n",
        "\n",
        "\n",
        "url = \"https://listado.mercadolibre.com.co/guitarra-electrica#D[A:guitarra%20electrica]\"\n",
        "\n",
        "driver.get(url)\n",
        "\n",
        "time.sleep(5)\n",
        "\n",
        "titulos = driver.find_elements(By.TAG_NAME,'h2')\n",
        "\n",
        "for titulo in titulos:\n",
        "  print(titulo.text)\n",
        "\n",
        "driver.quit()"
      ],
      "metadata": {
        "colab": {
          "base_uri": "https://localhost:8080/"
        },
        "id": "SxS1XVr95_l0",
        "outputId": "b88f0cef-4ebf-476d-9f55-5e2651f5f253"
      },
      "execution_count": 12,
      "outputs": [
        {
          "output_type": "stream",
          "name": "stdout",
          "text": [
            "Guitarra Electrica Stratocaster Amplificador Negra Blanca\n",
            "Guitarra Electrica Stingrey Strato Estudiantil Con Accesorio\n",
            "Guitarra Eléctrica Femmto Stratocaster con Amplificador y Accesorios\n",
            "Guitarra Eléctrica Femmto EG001 Stratocaster con Amplificador y Accesorios\n",
            "Guitarra Eléctrica Femmto Stratocaster Con Amplificador Color Blanco Material del diapasón MDF Orientación de la mano Diestro\n",
            "Guitarra Electrica Magnux Stratocaster Amplificador Naranja Negro Musical\n",
            "Guitarra eléctrica Ibanez RG GIO GRG121DX soloist de álamo black flat con diapasón de amaranto\n",
            "Guitarra Electrica Stratocaster Amplificador Azul Negro Color Azul Negro Material Del Diapasón Maple Orientación De La Mano Diestro MX\n",
            "Guitarra Eléctrica Femmto EG001 Stratocaster con Amplificador y Accesorios\n",
            "Guitarra eléctrica Ibanez RG GIO GRGR131EX de álamo black flat con diapasón de amaranto\n",
            "Guitarra Electrica Magnux Stratocaster Amplificador Blanca Musica New\n",
            "Guitarra eléctrica Ibanez RG GIO GRX70QA gio de álamo transparent black sunburst con diapasón de amaranto\n",
            "Guitarra eléctrica Ibanez PIA/JEM/UV JEMJR super strato de meranti white brillante con diapasón de jatoba\n",
            "Guitarra eléctrica Ibanez RG GIO GRX70QA gio de álamo sunburst brillante con diapasón de amaranto\n",
            "Guitarra Eléctrica Persian Tipo Les Paul - Envío Gratis\n",
            "Kit Guitarra Eléctrica Fender Squier Bullet - Stratocaster\n",
            "Guitarra Electrica Stratocaster Amplificador Negra Blanca\n",
            "Guitarra Eléctrica Para Niño Marca Persian\n",
            "Kit Guitarra Electrica Marvin Stratocaster Amplificador 10w\n",
            "Guitarra eléctrica Tagima Classic Series T-635 Classic de aliso olympic white with mint green shell con diapasón de madera técnica\n",
            "Guitarra Eléctrica Persian. Cuerpo Semihollow\n",
            "Guitarra Eléctrica Inteligente Mooer Gtrs\n",
            "Guitarra Electrica Sq Telecaster Series Deluxe\n",
            "Kit De Guitarra Yamaha Eg112gpii Con Amplificador Estuche +\n",
            "Kit Guitarra Electrica Strato Seafoam Green\n",
            "Guitarra Electrica Sq Stratocaster Series Hh\n",
            "Kit Guitarra Eléctrica Chateau Strat St01\n",
            "Guitarra Eléctrica Importada Smiger L-g2 Stratocaster\n",
            "Guitarra eléctrica Ibanez RG GIO GRX40 de álamo metallic light blue con diapasón de jatoba\n",
            "Guitarra Eléctrica Ibanez Zurda Grx70qal\n",
            "Guitarra Eléctrica Deviser Sp11 Bk\n",
            "Guitarra Eléctrica EpiPhone Sg Standard\n",
            "Guitarra eléctrica Ibanez RG GIO GRX70QA gio de álamo transparent red burst con diapasón de amaranto\n",
            "Guitarra eléctrica Yamaha PAC012/100 Series 012 stratocaster de caoba 2023 dark blue metallic brillante con diapasón de palo de rosa\n",
            "Kit Guitarra Eléctrica Amplificador 15w + Accesorios\n",
            "Guitarra Electrica Tipo Stratocaster Nueva\n",
            "Combo De Guitarra Eléctrica Marca Boss Nuevo!!\n",
            "Guitarra Electrica Stingrey Strato Estudiantil Con Accesorio\n",
            "Guitarra Eléctrica De 39 Pulgadas, Dst400 Seeker, Cuer...\n",
            "Guitarra eléctrica Ibanez Artcore AF55 de tilo tobacco flat con diapasón de nogal\n",
            "Guitarra eléctrica Epiphone Les Paul Studio LT E1 de caoba heritage cherry sunburst con diapasón de palo de rosa\n",
            "Guitarra eléctrica Tagima Classic Series T-635 Classic de aliso black with mint green shell con diapasón de arce\n",
            "Guitarra Ibanez GRG121par Kbf Deep Dusk Burst Super Strato\n",
            "Mástil De Guitarra Eléctrica De Arce Canadiense De 22 Traste\n",
            "Guitarra Eléctrica Fender Combo Pk Af Strat Hss Lr Kit\n",
            "Reemplazo De Cuello De Guitarra Eléctrica, Diapasón De Arce\n",
            "Guitarra eléctrica Yamaha EG112 de tilo black laca poliuretánica con diapasón de palo de rosa\n",
            "Guitarra eléctrica Ibanez RG Standard RG421 superstrato de fresno blue moon burst con diapasón de arce\n",
            "Guitarra eléctrica Ibanez RG GIO GRX40 de álamo black night con diapasón de jatoba\n",
            "Guitarra eléctrica Tagima Brasil T-805 de cedro olympic white con diapasón de granadillo brasileño\n",
            "Guitarra Electrica Squier By Fender Sonic Stratocaster Msi\n",
            "Guitarra eléctrica Squier by Fender Bullet. Stratocaster HT HSS de álamo black brillante con diapasón de laurel indio\n",
            "Guitarra Electrica\n",
            "Destacado en Instrumentos Musicales\n",
            "Más información\n",
            "Conoce el envío a tu ubicación\n"
          ]
        }
      ]
    },
    {
      "cell_type": "code",
      "source": [
        "import requests\n",
        "from bs4 import BeautifulSoup\n",
        "\n",
        "url = \"https://listado.mercadolibre.com.co/guitarra-electrica#D[A:guitarra%20electrica]\"\n",
        "response = requests.get(url)\n",
        "\n",
        "soup = BeautifulSoup(response.content, 'html.parser')\n",
        "titulos = soup.find_all('h2')\n",
        "\n",
        "for titulo in titulos:\n",
        "    print(titulo.text)\n"
      ],
      "metadata": {
        "colab": {
          "base_uri": "https://localhost:8080/"
        },
        "id": "GNGI2zS560db",
        "outputId": "d0a469be-9739-486c-e922-590af9c10267"
      },
      "execution_count": 20,
      "outputs": [
        {
          "output_type": "stream",
          "name": "stderr",
          "text": [
            "DEBUG:urllib3.connectionpool:Starting new HTTPS connection (1): listado.mercadolibre.com.co:443\n",
            "2024-12-08 19:51:10 [urllib3.connectionpool] DEBUG: Starting new HTTPS connection (1): listado.mercadolibre.com.co:443\n",
            "DEBUG:urllib3.connectionpool:https://listado.mercadolibre.com.co:443 \"GET /guitarra-electrica HTTP/11\" 200 None\n",
            "2024-12-08 19:51:11 [urllib3.connectionpool] DEBUG: https://listado.mercadolibre.com.co:443 \"GET /guitarra-electrica HTTP/11\" 200 None\n"
          ]
        },
        {
          "output_type": "stream",
          "name": "stdout",
          "text": [
            "Guitarra Electrica Stratocaster Amplificador Negra Blanca\n",
            "Guitarra Electrica Stingrey Strato Estudiantil Con Accesorio\n",
            "Guitarra Eléctrica Femmto Stratocaster con Amplificador y Accesorios ﻿\n",
            "Guitarra Eléctrica Femmto EG001 Stratocaster con Amplificador y Accesorios ﻿\n",
            "Guitarra Eléctrica Femmto Stratocaster Con Amplificador Color Blanco Material del diapasón MDF Orientación de la mano Diestro\n",
            "Guitarra Electrica Magnux Stratocaster Amplificador Naranja Negro Musical\n",
            "Guitarra eléctrica Ibanez RG GIO GRG121DX soloist de álamo black flat con diapasón de amaranto\n",
            "Guitarra Electrica Stratocaster Amplificador Azul Negro Color Azul Negro Material Del Diapasón Maple Orientación De La Mano Diestro MX\n",
            "Guitarra Eléctrica Femmto EG001 Stratocaster con Amplificador y Accesorios ﻿\n",
            "Guitarra eléctrica Ibanez RG GIO GRGR131EX de álamo black flat con diapasón de amaranto\n",
            "Guitarra Electrica Magnux Stratocaster Amplificador Blanca Musica New\n",
            "Guitarra eléctrica Ibanez RG GIO GRX70QA gio de álamo transparent black sunburst con diapasón de amaranto\n",
            "Guitarra eléctrica Ibanez PIA/JEM/UV JEMJR super strato de meranti white brillante con diapasón de jatoba\n",
            "Guitarra eléctrica Ibanez RG GIO GRX70QA gio de álamo sunburst brillante con diapasón de amaranto\n",
            "Guitarra Eléctrica Persian Tipo Les Paul  - Envío Gratis \n",
            "Kit Guitarra Eléctrica Fender Squier Bullet - Stratocaster \n",
            "Guitarra Electrica Stratocaster Amplificador Negra Blanca\n",
            "Guitarra Eléctrica Para Niño Marca Persian\n",
            "Kit Guitarra Electrica Marvin Stratocaster Amplificador 10w\n",
            "Guitarra eléctrica Tagima Classic Series T-635 Classic de aliso olympic white with mint green shell con diapasón de madera técnica\n",
            "Guitarra Eléctrica Persian. Cuerpo Semihollow\n",
            "Guitarra Eléctrica Inteligente Mooer Gtrs\n",
            "Guitarra Electrica Sq Telecaster Series Deluxe\n",
            "Kit De Guitarra Yamaha Eg112gpii Con Amplificador Estuche +\n",
            "Kit Guitarra Electrica Strato Seafoam Green\n",
            "Guitarra Electrica Sq Stratocaster Series Hh\n",
            "Kit Guitarra Eléctrica Chateau Strat St01\n",
            "Guitarra Eléctrica Importada Smiger L-g2 Stratocaster\n",
            "Guitarra eléctrica Ibanez RG GIO GRX40 de álamo metallic light blue con diapasón de jatoba\n",
            "Guitarra Eléctrica Ibanez Zurda Grx70qal\n",
            "Guitarra Eléctrica Deviser Sp11 Bk\n",
            "Guitarra Eléctrica EpiPhone Sg Standard\n",
            "Guitarra eléctrica Ibanez RG GIO GRX70QA gio de álamo transparent red burst con diapasón de amaranto\n",
            "Guitarra eléctrica Yamaha PAC012/100 Series 012 stratocaster de caoba 2023 dark blue metallic brillante con diapasón de palo de rosa\n",
            "Kit Guitarra Eléctrica Amplificador 15w + Accesorios\n",
            "Guitarra Electrica Tipo Stratocaster Nueva\n",
            "Combo De Guitarra Eléctrica Marca Boss Nuevo!!\n",
            "Guitarra Electrica Stingrey Strato Estudiantil Con Accesorio\n",
            "Guitarra Eléctrica De 39 Pulgadas, Dst400 Seeker, Cuer...\n",
            "Guitarra eléctrica Ibanez Artcore AF55 de tilo tobacco flat con diapasón de nogal\n",
            "Guitarra eléctrica Epiphone Les Paul Studio LT E1 de caoba heritage cherry sunburst con diapasón de palo de rosa\n",
            "Guitarra eléctrica Tagima Classic Series T-635 Classic de aliso black with mint green shell con diapasón de arce\n",
            "Mástil De Guitarra Eléctrica De Arce Canadiense De 22 Traste\n",
            "Guitarra Eléctrica Fender Combo Pk Af Strat Hss Lr Kit\n",
            "Reemplazo De Cuello De Guitarra Eléctrica, Diapasón De Arce\n",
            "Guitarra eléctrica Yamaha EG112 de tilo black laca poliuretánica con diapasón de palo de rosa\n",
            "Guitarra eléctrica Ibanez RG Standard RG421 superstrato de fresno blue moon burst con diapasón de arce\n",
            "Guitarra eléctrica Ibanez RG GIO GRX40 de álamo black night con diapasón de jatoba\n",
            "Guitarra eléctrica Tagima Brasil T-805 de cedro olympic white con diapasón de granadillo brasileño\n",
            "Guitarra Electrica Squier By Fender Sonic Stratocaster Msi\n",
            "Guitarra eléctrica Ibanez RG Standard RG421 superstrato de meranti black flat con diapasón de jatoba asado\n",
            "Guitarra eléctrica Jackson JS Series JS32 DKA dinky de álamo neon orange brillante con diapasón de amaranto\n",
            "guitarra electrica\n",
            "Destacado en Instrumentos Musicales\n",
            "Más información \n"
          ]
        }
      ]
    },
    {
      "cell_type": "code",
      "source": [
        "!pip install scrapy\n"
      ],
      "metadata": {
        "colab": {
          "base_uri": "https://localhost:8080/"
        },
        "id": "G0LlKqRM7DRD",
        "outputId": "f88e573f-9cba-424c-dc30-1b01124689a1"
      },
      "execution_count": 14,
      "outputs": [
        {
          "output_type": "stream",
          "name": "stdout",
          "text": [
            "Collecting scrapy\n",
            "  Downloading Scrapy-2.12.0-py2.py3-none-any.whl.metadata (5.3 kB)\n",
            "Collecting Twisted>=21.7.0 (from scrapy)\n",
            "  Downloading twisted-24.11.0-py3-none-any.whl.metadata (20 kB)\n",
            "Requirement already satisfied: cryptography>=37.0.0 in /usr/local/lib/python3.10/dist-packages (from scrapy) (43.0.3)\n",
            "Collecting cssselect>=0.9.1 (from scrapy)\n",
            "  Downloading cssselect-1.2.0-py2.py3-none-any.whl.metadata (2.2 kB)\n",
            "Collecting itemloaders>=1.0.1 (from scrapy)\n",
            "  Downloading itemloaders-1.3.2-py3-none-any.whl.metadata (3.9 kB)\n",
            "Collecting parsel>=1.5.0 (from scrapy)\n",
            "  Downloading parsel-1.9.1-py2.py3-none-any.whl.metadata (11 kB)\n",
            "Requirement already satisfied: pyOpenSSL>=22.0.0 in /usr/local/lib/python3.10/dist-packages (from scrapy) (24.2.1)\n",
            "Collecting queuelib>=1.4.2 (from scrapy)\n",
            "  Downloading queuelib-1.7.0-py2.py3-none-any.whl.metadata (5.7 kB)\n",
            "Collecting service-identity>=18.1.0 (from scrapy)\n",
            "  Downloading service_identity-24.2.0-py3-none-any.whl.metadata (5.1 kB)\n",
            "Collecting w3lib>=1.17.0 (from scrapy)\n",
            "  Downloading w3lib-2.2.1-py3-none-any.whl.metadata (2.1 kB)\n",
            "Collecting zope.interface>=5.1.0 (from scrapy)\n",
            "  Downloading zope.interface-7.2-cp310-cp310-manylinux_2_5_x86_64.manylinux1_x86_64.manylinux_2_17_x86_64.manylinux2014_x86_64.whl.metadata (44 kB)\n",
            "\u001b[2K     \u001b[90m━━━━━━━━━━━━━━━━━━━━━━━━━━━━━━━━━━━━━━━━\u001b[0m \u001b[32m44.4/44.4 kB\u001b[0m \u001b[31m3.7 MB/s\u001b[0m eta \u001b[36m0:00:00\u001b[0m\n",
            "\u001b[?25hCollecting protego>=0.1.15 (from scrapy)\n",
            "  Downloading Protego-0.3.1-py2.py3-none-any.whl.metadata (5.9 kB)\n",
            "Collecting itemadapter>=0.1.0 (from scrapy)\n",
            "  Downloading itemadapter-0.10.0-py3-none-any.whl.metadata (18 kB)\n",
            "Requirement already satisfied: packaging in /usr/local/lib/python3.10/dist-packages (from scrapy) (24.2)\n",
            "Collecting tldextract (from scrapy)\n",
            "  Downloading tldextract-5.1.3-py3-none-any.whl.metadata (11 kB)\n",
            "Requirement already satisfied: lxml>=4.6.0 in /usr/local/lib/python3.10/dist-packages (from scrapy) (5.3.0)\n",
            "Requirement already satisfied: defusedxml>=0.7.1 in /usr/local/lib/python3.10/dist-packages (from scrapy) (0.7.1)\n",
            "Collecting PyDispatcher>=2.0.5 (from scrapy)\n",
            "  Downloading PyDispatcher-2.0.7-py3-none-any.whl.metadata (2.4 kB)\n",
            "Requirement already satisfied: cffi>=1.12 in /usr/local/lib/python3.10/dist-packages (from cryptography>=37.0.0->scrapy) (1.17.1)\n",
            "Collecting jmespath>=0.9.5 (from itemloaders>=1.0.1->scrapy)\n",
            "  Downloading jmespath-1.0.1-py3-none-any.whl.metadata (7.6 kB)\n",
            "Requirement already satisfied: attrs>=19.1.0 in /usr/local/lib/python3.10/dist-packages (from service-identity>=18.1.0->scrapy) (24.2.0)\n",
            "Requirement already satisfied: pyasn1 in /usr/local/lib/python3.10/dist-packages (from service-identity>=18.1.0->scrapy) (0.6.1)\n",
            "Requirement already satisfied: pyasn1-modules in /usr/local/lib/python3.10/dist-packages (from service-identity>=18.1.0->scrapy) (0.4.1)\n",
            "Collecting automat>=24.8.0 (from Twisted>=21.7.0->scrapy)\n",
            "  Downloading Automat-24.8.1-py3-none-any.whl.metadata (8.4 kB)\n",
            "Collecting constantly>=15.1 (from Twisted>=21.7.0->scrapy)\n",
            "  Downloading constantly-23.10.4-py3-none-any.whl.metadata (1.8 kB)\n",
            "Collecting hyperlink>=17.1.1 (from Twisted>=21.7.0->scrapy)\n",
            "  Downloading hyperlink-21.0.0-py2.py3-none-any.whl.metadata (1.5 kB)\n",
            "Collecting incremental>=24.7.0 (from Twisted>=21.7.0->scrapy)\n",
            "  Downloading incremental-24.7.2-py3-none-any.whl.metadata (8.1 kB)\n",
            "Requirement already satisfied: typing-extensions>=4.2.0 in /usr/local/lib/python3.10/dist-packages (from Twisted>=21.7.0->scrapy) (4.12.2)\n",
            "Requirement already satisfied: setuptools in /usr/local/lib/python3.10/dist-packages (from zope.interface>=5.1.0->scrapy) (75.1.0)\n",
            "Requirement already satisfied: idna in /usr/local/lib/python3.10/dist-packages (from tldextract->scrapy) (3.10)\n",
            "Requirement already satisfied: requests>=2.1.0 in /usr/local/lib/python3.10/dist-packages (from tldextract->scrapy) (2.32.3)\n",
            "Collecting requests-file>=1.4 (from tldextract->scrapy)\n",
            "  Downloading requests_file-2.1.0-py2.py3-none-any.whl.metadata (1.7 kB)\n",
            "Requirement already satisfied: filelock>=3.0.8 in /usr/local/lib/python3.10/dist-packages (from tldextract->scrapy) (3.16.1)\n",
            "Requirement already satisfied: pycparser in /usr/local/lib/python3.10/dist-packages (from cffi>=1.12->cryptography>=37.0.0->scrapy) (2.22)\n",
            "Requirement already satisfied: tomli in /usr/local/lib/python3.10/dist-packages (from incremental>=24.7.0->Twisted>=21.7.0->scrapy) (2.2.1)\n",
            "Requirement already satisfied: charset-normalizer<4,>=2 in /usr/local/lib/python3.10/dist-packages (from requests>=2.1.0->tldextract->scrapy) (3.4.0)\n",
            "Requirement already satisfied: urllib3<3,>=1.21.1 in /usr/local/lib/python3.10/dist-packages (from requests>=2.1.0->tldextract->scrapy) (2.2.3)\n",
            "Requirement already satisfied: certifi>=2017.4.17 in /usr/local/lib/python3.10/dist-packages (from requests>=2.1.0->tldextract->scrapy) (2024.8.30)\n",
            "Downloading Scrapy-2.12.0-py2.py3-none-any.whl (311 kB)\n",
            "\u001b[2K   \u001b[90m━━━━━━━━━━━━━━━━━━━━━━━━━━━━━━━━━━━━━━━━\u001b[0m \u001b[32m311.2/311.2 kB\u001b[0m \u001b[31m9.9 MB/s\u001b[0m eta \u001b[36m0:00:00\u001b[0m\n",
            "\u001b[?25hDownloading cssselect-1.2.0-py2.py3-none-any.whl (18 kB)\n",
            "Downloading itemadapter-0.10.0-py3-none-any.whl (11 kB)\n",
            "Downloading itemloaders-1.3.2-py3-none-any.whl (12 kB)\n",
            "Downloading parsel-1.9.1-py2.py3-none-any.whl (17 kB)\n",
            "Downloading Protego-0.3.1-py2.py3-none-any.whl (8.5 kB)\n",
            "Downloading PyDispatcher-2.0.7-py3-none-any.whl (12 kB)\n",
            "Downloading queuelib-1.7.0-py2.py3-none-any.whl (13 kB)\n",
            "Downloading service_identity-24.2.0-py3-none-any.whl (11 kB)\n",
            "Downloading twisted-24.11.0-py3-none-any.whl (3.2 MB)\n",
            "\u001b[2K   \u001b[90m━━━━━━━━━━━━━━━━━━━━━━━━━━━━━━━━━━━━━━━━\u001b[0m \u001b[32m3.2/3.2 MB\u001b[0m \u001b[31m54.3 MB/s\u001b[0m eta \u001b[36m0:00:00\u001b[0m\n",
            "\u001b[?25hDownloading w3lib-2.2.1-py3-none-any.whl (21 kB)\n",
            "Downloading zope.interface-7.2-cp310-cp310-manylinux_2_5_x86_64.manylinux1_x86_64.manylinux_2_17_x86_64.manylinux2014_x86_64.whl (254 kB)\n",
            "\u001b[2K   \u001b[90m━━━━━━━━━━━━━━━━━━━━━━━━━━━━━━━━━━━━━━━━\u001b[0m \u001b[32m254.5/254.5 kB\u001b[0m \u001b[31m21.5 MB/s\u001b[0m eta \u001b[36m0:00:00\u001b[0m\n",
            "\u001b[?25hDownloading tldextract-5.1.3-py3-none-any.whl (104 kB)\n",
            "\u001b[2K   \u001b[90m━━━━━━━━━━━━━━━━━━━━━━━━━━━━━━━━━━━━━━━━\u001b[0m \u001b[32m104.9/104.9 kB\u001b[0m \u001b[31m8.4 MB/s\u001b[0m eta \u001b[36m0:00:00\u001b[0m\n",
            "\u001b[?25hDownloading Automat-24.8.1-py3-none-any.whl (42 kB)\n",
            "\u001b[2K   \u001b[90m━━━━━━━━━━━━━━━━━━━━━━━━━━━━━━━━━━━━━━━━\u001b[0m \u001b[32m42.6/42.6 kB\u001b[0m \u001b[31m3.4 MB/s\u001b[0m eta \u001b[36m0:00:00\u001b[0m\n",
            "\u001b[?25hDownloading constantly-23.10.4-py3-none-any.whl (13 kB)\n",
            "Downloading hyperlink-21.0.0-py2.py3-none-any.whl (74 kB)\n",
            "\u001b[2K   \u001b[90m━━━━━━━━━━━━━━━━━━━━━━━━━━━━━━━━━━━━━━━━\u001b[0m \u001b[32m74.6/74.6 kB\u001b[0m \u001b[31m6.2 MB/s\u001b[0m eta \u001b[36m0:00:00\u001b[0m\n",
            "\u001b[?25hDownloading incremental-24.7.2-py3-none-any.whl (20 kB)\n",
            "Downloading jmespath-1.0.1-py3-none-any.whl (20 kB)\n",
            "Downloading requests_file-2.1.0-py2.py3-none-any.whl (4.2 kB)\n",
            "Installing collected packages: PyDispatcher, zope.interface, w3lib, queuelib, protego, jmespath, itemadapter, incremental, hyperlink, cssselect, constantly, automat, Twisted, requests-file, parsel, tldextract, service-identity, itemloaders, scrapy\n",
            "Successfully installed PyDispatcher-2.0.7 Twisted-24.11.0 automat-24.8.1 constantly-23.10.4 cssselect-1.2.0 hyperlink-21.0.0 incremental-24.7.2 itemadapter-0.10.0 itemloaders-1.3.2 jmespath-1.0.1 parsel-1.9.1 protego-0.3.1 queuelib-1.7.0 requests-file-2.1.0 scrapy-2.12.0 service-identity-24.2.0 tldextract-5.1.3 w3lib-2.2.1 zope.interface-7.2\n"
          ]
        }
      ]
    },
    {
      "cell_type": "code",
      "source": [
        "import scrapy\n",
        "from scrapy.crawler import CrawlerProcess\n",
        "\n",
        "class GuitarraSpider(scrapy.Spider):\n",
        "    name = \"guitarra_spider\"\n",
        "    start_urls = [\n",
        "        'https://listado.mercadolibre.com.co/guitarra-electrica#D[A:guitarra%20electrica]'\n",
        "    ]\n",
        "\n",
        "    custom_settings = {\n",
        "        'DOWNLOAD_DELAY': 20,  # Tiempo de espera entre solicitudes en segundos\n",
        "        'CONCURRENT_REQUESTS_PER_DOMAIN': 1,  # Solo hacer una solicitud a la vez\n",
        "        'FEEDS': {\n",
        "            'titulos.json': {'format': 'json'},\n",
        "        },\n",
        "        'USER_AGENT': 'Mozilla/5.0 (Windows NT 10.0; Win64; x64) AppleWebKit/537.36 (KHTML, like Gecko) Chrome/85.0.4183.121 Safari/537.36',\n",
        "    }\n",
        "\n",
        "    def parse(self, response):\n",
        "        if response.status == 403:\n",
        "            self.logger.warning(\"Se recibió un código 403, posiblemente bloqueado por el servidor.\")\n",
        "            return\n",
        "\n",
        "        titulos = response.css('h2::text').getall()\n",
        "        for titulo in titulos:\n",
        "            yield {'titulo': titulo}\n",
        "\n",
        "# Configuración del proceso\n",
        "process = CrawlerProcess()\n",
        "process.crawl(GuitarraSpider)\n",
        "process.start()\n"
      ],
      "metadata": {
        "colab": {
          "base_uri": "https://localhost:8080/"
        },
        "id": "PGWAOG4172-7",
        "outputId": "259ed0f4-d4f3-40d8-965c-b4d6e4f60324"
      },
      "execution_count": 15,
      "outputs": [
        {
          "output_type": "stream",
          "name": "stderr",
          "text": [
            "INFO:scrapy.utils.log:Scrapy 2.12.0 started (bot: scrapybot)\n",
            "2024-12-08 19:49:09 [scrapy.utils.log] INFO: Scrapy 2.12.0 started (bot: scrapybot)\n",
            "INFO:scrapy.utils.log:Versions: lxml 5.3.0.0, libxml2 2.12.9, cssselect 1.2.0, parsel 1.9.1, w3lib 2.2.1, Twisted 24.11.0, Python 3.10.12 (main, Nov  6 2024, 20:22:13) [GCC 11.4.0], pyOpenSSL 24.2.1 (OpenSSL 3.3.2 3 Sep 2024), cryptography 43.0.3, Platform Linux-6.1.85+-x86_64-with-glibc2.35\n",
            "2024-12-08 19:49:09 [scrapy.utils.log] INFO: Versions: lxml 5.3.0.0, libxml2 2.12.9, cssselect 1.2.0, parsel 1.9.1, w3lib 2.2.1, Twisted 24.11.0, Python 3.10.12 (main, Nov  6 2024, 20:22:13) [GCC 11.4.0], pyOpenSSL 24.2.1 (OpenSSL 3.3.2 3 Sep 2024), cryptography 43.0.3, Platform Linux-6.1.85+-x86_64-with-glibc2.35\n",
            "INFO:scrapy.addons:Enabled addons:\n",
            "[]\n",
            "2024-12-08 19:49:09 [scrapy.addons] INFO: Enabled addons:\n",
            "[]\n",
            "DEBUG:scrapy.utils.log:Using reactor: twisted.internet.epollreactor.EPollReactor\n",
            "2024-12-08 19:49:09 [scrapy.utils.log] DEBUG: Using reactor: twisted.internet.epollreactor.EPollReactor\n",
            "INFO:scrapy.extensions.telnet:Telnet Password: e71f26ec5e377efc\n",
            "2024-12-08 19:49:09 [scrapy.extensions.telnet] INFO: Telnet Password: e71f26ec5e377efc\n",
            "INFO:scrapy.middleware:Enabled extensions:\n",
            "['scrapy.extensions.corestats.CoreStats',\n",
            " 'scrapy.extensions.telnet.TelnetConsole',\n",
            " 'scrapy.extensions.memusage.MemoryUsage',\n",
            " 'scrapy.extensions.feedexport.FeedExporter',\n",
            " 'scrapy.extensions.logstats.LogStats']\n",
            "2024-12-08 19:49:09 [scrapy.middleware] INFO: Enabled extensions:\n",
            "['scrapy.extensions.corestats.CoreStats',\n",
            " 'scrapy.extensions.telnet.TelnetConsole',\n",
            " 'scrapy.extensions.memusage.MemoryUsage',\n",
            " 'scrapy.extensions.feedexport.FeedExporter',\n",
            " 'scrapy.extensions.logstats.LogStats']\n",
            "INFO:scrapy.crawler:Overridden settings:\n",
            "{'CONCURRENT_REQUESTS_PER_DOMAIN': 1,\n",
            " 'DOWNLOAD_DELAY': 20,\n",
            " 'USER_AGENT': 'Mozilla/5.0 (Windows NT 10.0; Win64; x64) AppleWebKit/537.36 '\n",
            "               '(KHTML, like Gecko) Chrome/85.0.4183.121 Safari/537.36'}\n",
            "2024-12-08 19:49:09 [scrapy.crawler] INFO: Overridden settings:\n",
            "{'CONCURRENT_REQUESTS_PER_DOMAIN': 1,\n",
            " 'DOWNLOAD_DELAY': 20,\n",
            " 'USER_AGENT': 'Mozilla/5.0 (Windows NT 10.0; Win64; x64) AppleWebKit/537.36 '\n",
            "               '(KHTML, like Gecko) Chrome/85.0.4183.121 Safari/537.36'}\n",
            "INFO:scrapy.middleware:Enabled downloader middlewares:\n",
            "['scrapy.downloadermiddlewares.offsite.OffsiteMiddleware',\n",
            " 'scrapy.downloadermiddlewares.httpauth.HttpAuthMiddleware',\n",
            " 'scrapy.downloadermiddlewares.downloadtimeout.DownloadTimeoutMiddleware',\n",
            " 'scrapy.downloadermiddlewares.defaultheaders.DefaultHeadersMiddleware',\n",
            " 'scrapy.downloadermiddlewares.useragent.UserAgentMiddleware',\n",
            " 'scrapy.downloadermiddlewares.retry.RetryMiddleware',\n",
            " 'scrapy.downloadermiddlewares.redirect.MetaRefreshMiddleware',\n",
            " 'scrapy.downloadermiddlewares.httpcompression.HttpCompressionMiddleware',\n",
            " 'scrapy.downloadermiddlewares.redirect.RedirectMiddleware',\n",
            " 'scrapy.downloadermiddlewares.cookies.CookiesMiddleware',\n",
            " 'scrapy.downloadermiddlewares.httpproxy.HttpProxyMiddleware',\n",
            " 'scrapy.downloadermiddlewares.stats.DownloaderStats']\n",
            "2024-12-08 19:49:09 [scrapy.middleware] INFO: Enabled downloader middlewares:\n",
            "['scrapy.downloadermiddlewares.offsite.OffsiteMiddleware',\n",
            " 'scrapy.downloadermiddlewares.httpauth.HttpAuthMiddleware',\n",
            " 'scrapy.downloadermiddlewares.downloadtimeout.DownloadTimeoutMiddleware',\n",
            " 'scrapy.downloadermiddlewares.defaultheaders.DefaultHeadersMiddleware',\n",
            " 'scrapy.downloadermiddlewares.useragent.UserAgentMiddleware',\n",
            " 'scrapy.downloadermiddlewares.retry.RetryMiddleware',\n",
            " 'scrapy.downloadermiddlewares.redirect.MetaRefreshMiddleware',\n",
            " 'scrapy.downloadermiddlewares.httpcompression.HttpCompressionMiddleware',\n",
            " 'scrapy.downloadermiddlewares.redirect.RedirectMiddleware',\n",
            " 'scrapy.downloadermiddlewares.cookies.CookiesMiddleware',\n",
            " 'scrapy.downloadermiddlewares.httpproxy.HttpProxyMiddleware',\n",
            " 'scrapy.downloadermiddlewares.stats.DownloaderStats']\n",
            "INFO:scrapy.middleware:Enabled spider middlewares:\n",
            "['scrapy.spidermiddlewares.httperror.HttpErrorMiddleware',\n",
            " 'scrapy.spidermiddlewares.referer.RefererMiddleware',\n",
            " 'scrapy.spidermiddlewares.urllength.UrlLengthMiddleware',\n",
            " 'scrapy.spidermiddlewares.depth.DepthMiddleware']\n",
            "2024-12-08 19:49:09 [scrapy.middleware] INFO: Enabled spider middlewares:\n",
            "['scrapy.spidermiddlewares.httperror.HttpErrorMiddleware',\n",
            " 'scrapy.spidermiddlewares.referer.RefererMiddleware',\n",
            " 'scrapy.spidermiddlewares.urllength.UrlLengthMiddleware',\n",
            " 'scrapy.spidermiddlewares.depth.DepthMiddleware']\n",
            "INFO:scrapy.middleware:Enabled item pipelines:\n",
            "[]\n",
            "2024-12-08 19:49:09 [scrapy.middleware] INFO: Enabled item pipelines:\n",
            "[]\n",
            "INFO:scrapy.core.engine:Spider opened\n",
            "2024-12-08 19:49:09 [scrapy.core.engine] INFO: Spider opened\n",
            "INFO:scrapy.extensions.logstats:Crawled 0 pages (at 0 pages/min), scraped 0 items (at 0 items/min)\n",
            "2024-12-08 19:49:09 [scrapy.extensions.logstats] INFO: Crawled 0 pages (at 0 pages/min), scraped 0 items (at 0 items/min)\n",
            "INFO:scrapy.extensions.telnet:Telnet console listening on 127.0.0.1:6023\n",
            "2024-12-08 19:49:09 [scrapy.extensions.telnet] INFO: Telnet console listening on 127.0.0.1:6023\n",
            "DEBUG:urllib3.connectionpool:Starting new HTTPS connection (1): publicsuffix.org:443\n",
            "2024-12-08 19:49:10 [urllib3.connectionpool] DEBUG: Starting new HTTPS connection (1): publicsuffix.org:443\n",
            "DEBUG:urllib3.connectionpool:https://publicsuffix.org:443 \"GET /list/public_suffix_list.dat HTTP/11\" 200 87001\n",
            "2024-12-08 19:49:10 [urllib3.connectionpool] DEBUG: https://publicsuffix.org:443 \"GET /list/public_suffix_list.dat HTTP/11\" 200 87001\n",
            "DEBUG:scrapy.core.engine:Crawled (200) <GET https://listado.mercadolibre.com.co/guitarra-electrica#D%5BA:guitarra%20electrica%5D> (referer: None)\n",
            "2024-12-08 19:49:10 [scrapy.core.engine] DEBUG: Crawled (200) <GET https://listado.mercadolibre.com.co/guitarra-electrica#D%5BA:guitarra%20electrica%5D> (referer: None)\n",
            "DEBUG:scrapy.core.scraper:Scraped from <200 https://listado.mercadolibre.com.co/guitarra-electrica>\n",
            "{'titulo': 'guitarra electrica'}\n",
            "2024-12-08 19:49:11 [scrapy.core.scraper] DEBUG: Scraped from <200 https://listado.mercadolibre.com.co/guitarra-electrica>\n",
            "{'titulo': 'guitarra electrica'}\n",
            "DEBUG:scrapy.core.scraper:Scraped from <200 https://listado.mercadolibre.com.co/guitarra-electrica>\n",
            "{'titulo': 'Destacado en Instrumentos Musicales'}\n",
            "2024-12-08 19:49:11 [scrapy.core.scraper] DEBUG: Scraped from <200 https://listado.mercadolibre.com.co/guitarra-electrica>\n",
            "{'titulo': 'Destacado en Instrumentos Musicales'}\n",
            "INFO:scrapy.core.engine:Closing spider (finished)\n",
            "2024-12-08 19:49:11 [scrapy.core.engine] INFO: Closing spider (finished)\n",
            "INFO:scrapy.extensions.feedexport:Stored json feed (2 items) in: titulos.json\n",
            "2024-12-08 19:49:11 [scrapy.extensions.feedexport] INFO: Stored json feed (2 items) in: titulos.json\n",
            "INFO:scrapy.statscollectors:Dumping Scrapy stats:\n",
            "{'downloader/request_bytes': 326,\n",
            " 'downloader/request_count': 1,\n",
            " 'downloader/request_method_count/GET': 1,\n",
            " 'downloader/response_bytes': 280687,\n",
            " 'downloader/response_count': 1,\n",
            " 'downloader/response_status_count/200': 1,\n",
            " 'elapsed_time_seconds': 1.421614,\n",
            " 'feedexport/success_count/FileFeedStorage': 1,\n",
            " 'finish_reason': 'finished',\n",
            " 'finish_time': datetime.datetime(2024, 12, 8, 19, 49, 11, 150095, tzinfo=datetime.timezone.utc),\n",
            " 'httpcompression/response_bytes': 2006471,\n",
            " 'httpcompression/response_count': 1,\n",
            " 'item_scraped_count': 2,\n",
            " 'items_per_minute': None,\n",
            " 'log_count/DEBUG': 6,\n",
            " 'log_count/INFO': 11,\n",
            " 'memusage/max': 170012672,\n",
            " 'memusage/startup': 170012672,\n",
            " 'response_received_count': 1,\n",
            " 'responses_per_minute': None,\n",
            " 'scheduler/dequeued': 1,\n",
            " 'scheduler/dequeued/memory': 1,\n",
            " 'scheduler/enqueued': 1,\n",
            " 'scheduler/enqueued/memory': 1,\n",
            " 'start_time': datetime.datetime(2024, 12, 8, 19, 49, 9, 728481, tzinfo=datetime.timezone.utc)}\n",
            "2024-12-08 19:49:11 [scrapy.statscollectors] INFO: Dumping Scrapy stats:\n",
            "{'downloader/request_bytes': 326,\n",
            " 'downloader/request_count': 1,\n",
            " 'downloader/request_method_count/GET': 1,\n",
            " 'downloader/response_bytes': 280687,\n",
            " 'downloader/response_count': 1,\n",
            " 'downloader/response_status_count/200': 1,\n",
            " 'elapsed_time_seconds': 1.421614,\n",
            " 'feedexport/success_count/FileFeedStorage': 1,\n",
            " 'finish_reason': 'finished',\n",
            " 'finish_time': datetime.datetime(2024, 12, 8, 19, 49, 11, 150095, tzinfo=datetime.timezone.utc),\n",
            " 'httpcompression/response_bytes': 2006471,\n",
            " 'httpcompression/response_count': 1,\n",
            " 'item_scraped_count': 2,\n",
            " 'items_per_minute': None,\n",
            " 'log_count/DEBUG': 6,\n",
            " 'log_count/INFO': 11,\n",
            " 'memusage/max': 170012672,\n",
            " 'memusage/startup': 170012672,\n",
            " 'response_received_count': 1,\n",
            " 'responses_per_minute': None,\n",
            " 'scheduler/dequeued': 1,\n",
            " 'scheduler/dequeued/memory': 1,\n",
            " 'scheduler/enqueued': 1,\n",
            " 'scheduler/enqueued/memory': 1,\n",
            " 'start_time': datetime.datetime(2024, 12, 8, 19, 49, 9, 728481, tzinfo=datetime.timezone.utc)}\n",
            "INFO:scrapy.core.engine:Spider closed (finished)\n",
            "2024-12-08 19:49:11 [scrapy.core.engine] INFO: Spider closed (finished)\n"
          ]
        }
      ]
    },
    {
      "cell_type": "code",
      "source": [
        "from google.colab import files\n",
        "files.download('titulos.json')\n",
        "\n"
      ],
      "metadata": {
        "colab": {
          "base_uri": "https://localhost:8080/",
          "height": 17
        },
        "id": "SONRn1Wh8BOr",
        "outputId": "1a9d34ca-fa60-4971-8052-096c2be5b73f"
      },
      "execution_count": 16,
      "outputs": [
        {
          "output_type": "display_data",
          "data": {
            "text/plain": [
              "<IPython.core.display.Javascript object>"
            ],
            "application/javascript": [
              "\n",
              "    async function download(id, filename, size) {\n",
              "      if (!google.colab.kernel.accessAllowed) {\n",
              "        return;\n",
              "      }\n",
              "      const div = document.createElement('div');\n",
              "      const label = document.createElement('label');\n",
              "      label.textContent = `Downloading \"${filename}\": `;\n",
              "      div.appendChild(label);\n",
              "      const progress = document.createElement('progress');\n",
              "      progress.max = size;\n",
              "      div.appendChild(progress);\n",
              "      document.body.appendChild(div);\n",
              "\n",
              "      const buffers = [];\n",
              "      let downloaded = 0;\n",
              "\n",
              "      const channel = await google.colab.kernel.comms.open(id);\n",
              "      // Send a message to notify the kernel that we're ready.\n",
              "      channel.send({})\n",
              "\n",
              "      for await (const message of channel.messages) {\n",
              "        // Send a message to notify the kernel that we're ready.\n",
              "        channel.send({})\n",
              "        if (message.buffers) {\n",
              "          for (const buffer of message.buffers) {\n",
              "            buffers.push(buffer);\n",
              "            downloaded += buffer.byteLength;\n",
              "            progress.value = downloaded;\n",
              "          }\n",
              "        }\n",
              "      }\n",
              "      const blob = new Blob(buffers, {type: 'application/binary'});\n",
              "      const a = document.createElement('a');\n",
              "      a.href = window.URL.createObjectURL(blob);\n",
              "      a.download = filename;\n",
              "      div.appendChild(a);\n",
              "      a.click();\n",
              "      div.remove();\n",
              "    }\n",
              "  "
            ]
          },
          "metadata": {}
        },
        {
          "output_type": "display_data",
          "data": {
            "text/plain": [
              "<IPython.core.display.Javascript object>"
            ],
            "application/javascript": [
              "download(\"download_5b6363cd-a1a5-436d-8839-1403f0184f5f\", \"titulos.json\", 87)"
            ]
          },
          "metadata": {}
        }
      ]
    },
    {
      "cell_type": "markdown",
      "source": [
        "**Resultados y conclusiones.**\n",
        "\n",
        "En este proyecto de web scraping, utilicé tres enfoques para extraer datos de Mercado Libre: Selenium, que me permitió interactuar con la página cargada dinámicamente y facilitar la extracción de títulos de productos como \"Guitarra Eléctrica Stingrey Strato Estudiantil\"; Scrapy, un framework eficiente para estructurar el scraping, en el que configuré un retraso para evitar bloqueos; y la posibilidad de combinar ambos métodos para aprovechar las ventajas de cada uno. Gracias a estos enfoques, pude obtener una lista de guitarras eléctricas y entender mejor cómo cada herramienta se adapta a diferentes necesidades, siendo Selenium ideal para contenido dinámico y Scrapy para un scraping más rápido y organizado.\n",
        "\n",
        "\n",
        "\n",
        "\n",
        "\n",
        "\n"
      ],
      "metadata": {
        "id": "SdL9pOg-Y7Ft"
      }
    },
    {
      "cell_type": "markdown",
      "source": [
        "**Evidencia 2**\n"
      ],
      "metadata": {
        "id": "gOi-uGyRYdMF"
      }
    },
    {
      "cell_type": "markdown",
      "source": [
        "Introducción\n",
        "\n",
        "En el desarrollo de software moderno, el control de versiones se ha convertido en una práctica esencial para gestionar y rastrear los cambios en el código fuente, especialmente cuando se trabaja en equipos colaborativos. En este proyecto, hemos implementado una metodología de control de versionamiento utilizando Git y GitHub, herramientas fundamentales en el ecosistema DevOps.\n",
        "\n",
        "El objetivo principal de esta evidencia es demostrar la aplicación práctica de esta metodología para optimizar la colaboración, mantener un historial detallado de los cambios y facilitar la integración continua. A través de la gestión estructurada de ramas y la sincronización de cambios en GitHub, hemos asegurado un flujo de trabajo eficiente y alineado con los principios de DevOps, promoviendo la automatización, la calidad y la agilidad en el desarrollo."
      ],
      "metadata": {
        "id": "kluIjq79eQ3o"
      }
    },
    {
      "cell_type": "markdown",
      "source": [
        "Objetivo\n",
        "\n",
        "Aplicar control de versiones: Utilizar Git y GitHub para gestionar los cambios y el historial del proyecto de software de manera eficiente.\n",
        "\n",
        "Facilitar la colaboración: Sincronizar y gestionar el código en equipo a través de GitHub, trabajando de manera colaborativa con Google Colab.\n",
        "\n",
        "Optimizar el flujo de trabajo: Implementar buenas prácticas de ramas y revisión de código para mejorar la calidad y la integración continua del proyecto."
      ],
      "metadata": {
        "id": "7kGaIlOwfFGo"
      }
    },
    {
      "cell_type": "markdown",
      "source": [
        "Mejoras\n"
      ],
      "metadata": {
        "id": "tCc3gTUHfXA3"
      }
    },
    {
      "cell_type": "code",
      "source": [
        "import requests\n",
        "from bs4 import BeautifulSoup\n",
        "import time\n",
        "import csv\n",
        "\n",
        "url = \"https://listado.mercadolibre.com.co/guitarra-electrica\"\n",
        "headers = {\n",
        "    \"User-Agent\": \"Mozilla/5.0 (Windows NT 10.0; Win64; x64) AppleWebKit/537.36 (KHTML, like Gecko) Chrome/115.0.0.0 Safari/537.36\"\n",
        "}\n",
        "\n",
        "with open('guitarras.csv', 'w', newline='', encoding='utf-8') as file:\n",
        "    writer = csv.writer(file)\n",
        "    writer.writerow(['Título'])  # Encabezado\n",
        "\n",
        "    for page in range(1, 5):  # Explorar 4 páginas\n",
        "        paginated_url = f\"{url}_Desde_{(page - 1) * 50 + 1}\"\n",
        "        response = requests.get(paginated_url, headers=headers)\n",
        "\n",
        "        if response.status_code != 200:\n",
        "            print(f\"Error al obtener la página {page}: {response.status_code}\")\n",
        "            continue\n",
        "\n",
        "        soup = BeautifulSoup(response.content, 'html.parser')\n",
        "        titulos = soup.find_all('h2', class_='ui-search-item__title')\n",
        "\n",
        "        for titulo in titulos:\n",
        "            titulo_limpio = titulo.text.strip()\n",
        "            print(titulo_limpio)\n",
        "            writer.writerow([titulo_limpio])\n",
        "\n",
        "        time.sleep(2)  # Espera 2 segundos\n"
      ],
      "metadata": {
        "colab": {
          "base_uri": "https://localhost:8080/"
        },
        "id": "4ngo3vcQzaix",
        "outputId": "a4a6eadd-2364-4c2a-9410-e2d916565637"
      },
      "execution_count": 21,
      "outputs": [
        {
          "output_type": "stream",
          "name": "stderr",
          "text": [
            "DEBUG:urllib3.connectionpool:Starting new HTTPS connection (1): listado.mercadolibre.com.co:443\n",
            "2024-12-08 19:52:36 [urllib3.connectionpool] DEBUG: Starting new HTTPS connection (1): listado.mercadolibre.com.co:443\n",
            "DEBUG:urllib3.connectionpool:https://listado.mercadolibre.com.co:443 \"GET /guitarra-electrica_Desde_1 HTTP/11\" 301 None\n",
            "2024-12-08 19:52:37 [urllib3.connectionpool] DEBUG: https://listado.mercadolibre.com.co:443 \"GET /guitarra-electrica_Desde_1 HTTP/11\" 301 None\n",
            "DEBUG:urllib3.connectionpool:https://listado.mercadolibre.com.co:443 \"GET /guitarra-electrica HTTP/11\" 200 None\n",
            "2024-12-08 19:52:37 [urllib3.connectionpool] DEBUG: https://listado.mercadolibre.com.co:443 \"GET /guitarra-electrica HTTP/11\" 200 None\n",
            "DEBUG:urllib3.connectionpool:Starting new HTTPS connection (1): listado.mercadolibre.com.co:443\n",
            "2024-12-08 19:52:40 [urllib3.connectionpool] DEBUG: Starting new HTTPS connection (1): listado.mercadolibre.com.co:443\n",
            "DEBUG:urllib3.connectionpool:https://listado.mercadolibre.com.co:443 \"GET /guitarra-electrica_Desde_51 HTTP/11\" 301 None\n",
            "2024-12-08 19:52:41 [urllib3.connectionpool] DEBUG: https://listado.mercadolibre.com.co:443 \"GET /guitarra-electrica_Desde_51 HTTP/11\" 301 None\n",
            "DEBUG:urllib3.connectionpool:https://listado.mercadolibre.com.co:443 \"GET /guitarra-electrica HTTP/11\" 200 None\n",
            "2024-12-08 19:52:41 [urllib3.connectionpool] DEBUG: https://listado.mercadolibre.com.co:443 \"GET /guitarra-electrica HTTP/11\" 200 None\n",
            "DEBUG:urllib3.connectionpool:Starting new HTTPS connection (1): listado.mercadolibre.com.co:443\n",
            "2024-12-08 19:52:44 [urllib3.connectionpool] DEBUG: Starting new HTTPS connection (1): listado.mercadolibre.com.co:443\n",
            "DEBUG:urllib3.connectionpool:https://listado.mercadolibre.com.co:443 \"GET /guitarra-electrica_Desde_101 HTTP/11\" 301 None\n",
            "2024-12-08 19:52:44 [urllib3.connectionpool] DEBUG: https://listado.mercadolibre.com.co:443 \"GET /guitarra-electrica_Desde_101 HTTP/11\" 301 None\n",
            "DEBUG:urllib3.connectionpool:https://listado.mercadolibre.com.co:443 \"GET /guitarra-electrica HTTP/11\" 200 None\n",
            "2024-12-08 19:52:45 [urllib3.connectionpool] DEBUG: https://listado.mercadolibre.com.co:443 \"GET /guitarra-electrica HTTP/11\" 200 None\n",
            "DEBUG:urllib3.connectionpool:Starting new HTTPS connection (1): listado.mercadolibre.com.co:443\n",
            "2024-12-08 19:52:47 [urllib3.connectionpool] DEBUG: Starting new HTTPS connection (1): listado.mercadolibre.com.co:443\n",
            "DEBUG:urllib3.connectionpool:https://listado.mercadolibre.com.co:443 \"GET /guitarra-electrica_Desde_151 HTTP/11\" 301 None\n",
            "2024-12-08 19:52:48 [urllib3.connectionpool] DEBUG: https://listado.mercadolibre.com.co:443 \"GET /guitarra-electrica_Desde_151 HTTP/11\" 301 None\n",
            "DEBUG:urllib3.connectionpool:https://listado.mercadolibre.com.co:443 \"GET /guitarra-electrica HTTP/11\" 200 None\n",
            "2024-12-08 19:52:48 [urllib3.connectionpool] DEBUG: https://listado.mercadolibre.com.co:443 \"GET /guitarra-electrica HTTP/11\" 200 None\n"
          ]
        }
      ]
    },
    {
      "cell_type": "code",
      "source": [
        "# guarda los resultados y evita problemas comunes al hacer scraping en sitios dinámicos como Mercado Libre."
      ],
      "metadata": {
        "id": "XzzUUwza1W0X"
      },
      "execution_count": null,
      "outputs": []
    },
    {
      "cell_type": "markdown",
      "source": [
        "Resultados y  conclusiones.\n"
      ],
      "metadata": {
        "id": "UjIKkuGxfQmX"
      }
    },
    {
      "cell_type": "code",
      "source": [
        "#Se clona el proyecto para evidencia 2\n",
        "!git clone https://github.com/Dvn2014/Evidence2AnaliticaData.git"
      ],
      "metadata": {
        "id": "KNQUW_Yco2YS",
        "colab": {
          "base_uri": "https://localhost:8080/"
        },
        "outputId": "b4e0c87e-5024-45be-abe7-2129fb2492d9"
      },
      "execution_count": 4,
      "outputs": [
        {
          "output_type": "stream",
          "name": "stdout",
          "text": [
            "fatal: destination path 'Evidence2AnaliticaData' already exists and is not an empty directory.\n"
          ]
        }
      ]
    },
    {
      "cell_type": "markdown",
      "source": [
        "Resultados\n",
        "\n",
        "Se logró un control efectivo de versiones en el proyecto utilizando Git y GitHub, lo que facilitó la sincronización de cambios y la colaboración entre los miembros del equipo. La integración con Google Colab permitió un entorno de desarrollo accesible y flexible, mejorando la eficiencia en el trabajo conjunto. La implementación de ramas y pull requests favoreció la organización del código y la revisión constante.\n",
        "\n"
      ],
      "metadata": {
        "id": "NFHztcaLrYge"
      }
    },
    {
      "cell_type": "markdown",
      "source": [
        "Conclusiones\n",
        "\n",
        "El uso de Git y GitHub en combinación con Google Colab proporcionó una estructura sólida para el manejo de versiones en el proyecto, mejorando la colaboración y la calidad del desarrollo. Las prácticas de control de versiones y la integración continua, propias de DevOps, optimizaron el flujo de trabajo y aseguraron una gestión eficiente del código."
      ],
      "metadata": {
        "id": "7Tm1F_qP3N93"
      }
    }
  ]
}