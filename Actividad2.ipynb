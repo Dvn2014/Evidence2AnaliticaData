{
  "nbformat": 4,
  "nbformat_minor": 0,
  "metadata": {
    "colab": {
      "provenance": [],
      "include_colab_link": true
    },
    "kernelspec": {
      "name": "python3",
      "display_name": "Python 3"
    },
    "language_info": {
      "name": "python"
    }
  },
  "cells": [
    {
      "cell_type": "markdown",
      "metadata": {
        "id": "view-in-github",
        "colab_type": "text"
      },
      "source": [
        "<a href=\"https://colab.research.google.com/github/Dvn2014/Evidence2AnaliticaData/blob/main/Actividad2.ipynb\" target=\"_parent\"><img src=\"https://colab.research.google.com/assets/colab-badge.svg\" alt=\"Open In Colab\"/></a>"
      ]
    },
    {
      "cell_type": "markdown",
      "source": [
        "# <span style=\"color:#809bd8\"> **Programación para Análisis de Datos**</span>\n",
        "\n",
        "## <span style=\"color:#809bd8\">**Evidencia de aprendizaje 2. Optimizando la productividad en el mundo del software**</span>\n",
        "\n",
        "---\n",
        "**<span style=\"color:#809bd8\">Program:</span>** **Programación para Análisis de Datos**\n",
        "\n",
        "**<span style=\"color:#809bd8\">Course:</span>** **Data Analysis Programming**\n",
        "\n",
        "**<span style=\"color:#809bd8\">Group:</span>** **PREICA2402B020101**\n",
        "\n",
        "**<span style=\"color:#809bd8\">Teacher:</span>** **Andrés Felipe Palacio Angel**\n",
        "\n",
        "**<span style=\"color:#809bd8\">Student:</span>** **Duvan Alexis Henao Gomezs**\n",
        "\n",
        "\n",
        "\n",
        "**<span style=\"color:#809bd8\">University:</span>** **Institución Universitaria Digital de Antioquia – IUDIGITAL**\n",
        "\n",
        "**<span style=\"color:#809bd8\">Date:</span>** **24/11/2024**\n"
      ],
      "metadata": {
        "id": "3YyKGV0Xy0VE"
      }
    },
    {
      "cell_type": "markdown",
      "source": [
        "**INTRODUCCIÓN**\n",
        "\n",
        "La **guitarra eléctrica** es un instrumento fundamental en la música contemporánea, utilizado en una variedad de géneros que van desde el rock hasta el jazz. Con el auge del comercio electrónico, plataformas como **Mercado Libre** se han convertido en un recurso valioso para los consumidores que buscan adquirir guitarras eléctricas. En esta práctica, me propongo analizar el mercado de guitarras eléctricas en esta plataforma, utilizando técnicas de web scraping con Selenium y Scrapy. Al recopilar y examinar datos sobre la variedad de productos, precios y opiniones de los usuarios, espero identificar tendencias que puedan ofrecer insights sobre las preferencias de los consumidores y el posicionamiento de los productos en el mercado actual."
      ],
      "metadata": {
        "id": "j9g_b_pWYUoL"
      }
    },
    {
      "cell_type": "markdown",
      "source": [
        "**Descripción de la página y artículo a analiza**\n",
        "\n",
        "Voy a analizar la sección de guitarras eléctricas en Mercado Libre, donde se ofrecen diversas marcas y modelos de este popular instrumento musical. Evaluaré la información disponible sobre precios, características y opiniones de los usuarios para entender mejor las tendencias y preferencias del mercado."
      ],
      "metadata": {
        "id": "NyeoifMAYk0a"
      }
    },
    {
      "cell_type": "markdown",
      "source": [
        "**Descripción del tema de interés que deseas desarrollar en la primera práctica.**\n",
        "\n",
        "En la primera práctica, quiero desarrollar un análisis de mercado de guitarras eléctricas en Mercado Libre. Utilizando técnicas de web scraping con herramientas como Selenium y Scrapy, recopilaré datos sobre los productos disponibles, incluyendo marcas, modelos, precios y características. Este análisis me permitirá identificar tendencias del mercado, evaluar la competencia y entender las preferencias de los consumidores, con el objetivo de formular recomendaciones para mejorar las estrategias comerciales de las empresas en este sector."
      ],
      "metadata": {
        "id": "8vrWd6yLYtVt"
      }
    },
    {
      "cell_type": "markdown",
      "source": [
        "**Objetivos: formula los objetivos a partir de la siguiente pregunta: ¿por qué deseas analizar este artículo y la empresa de comercio?**\n",
        "\n",
        "- Identificar tendencias de mercado: Analizar los títulos y descripciones de las guitarras eléctricas en Mercado Libre para identificar las tendencias actuales en preferencias de los consumidores y los tipos de productos más buscados.\n",
        "\n",
        "- Evaluar la competencia: Investigar cómo se posiciona la empresa en el mercado de guitarras eléctricas, comparando precios, características y reseñas de productos con competidores.\n",
        "\n",
        "- Entender el comportamiento del consumidor: Examinar las opiniones y calificaciones de los usuarios sobre los productos analizados para entender qué características son más valoradas por los consumidores.\n",
        "\n",
        "- Optimizar estrategias de marketing: Usar los datos recopilados para desarrollar recomendaciones sobre cómo mejorar la estrategia de marketing y ventas de la empresa, alineando su oferta con las necesidades y deseos del mercado.\n",
        "\n",
        "- Monitorear cambios en la oferta: Realizar un seguimiento de las variaciones en los listados de productos, precios y promociones en el tiempo para identificar patrones o cambios significativos en el mercado de guitarras eléctricas."
      ],
      "metadata": {
        "id": "ycoUgyw_YkeC"
      }
    },
    {
      "cell_type": "markdown",
      "source": [
        "**Metodología empleada de scraping.**\n",
        "\n"
      ],
      "metadata": {
        "id": "646MhIeBwJEr"
      }
    },
    {
      "cell_type": "code",
      "source": [
        "# Instalación de los paquetes\n",
        "\n",
        "!pip install selenium\n",
        "!apt-get update\n",
        "!apt install chromium-chromedriver\n",
        "!cp /usr/lib/chromium-browser/chromedriver /usr/bin"
      ],
      "metadata": {
        "colab": {
          "base_uri": "https://localhost:8080/"
        },
        "id": "KACd6oJM4nzN",
        "outputId": "9dcea642-6752-4977-f2a0-a5f4a3a2a220"
      },
      "execution_count": null,
      "outputs": [
        {
          "output_type": "stream",
          "name": "stdout",
          "text": [
            "Requirement already satisfied: selenium in /usr/local/lib/python3.10/dist-packages (4.26.1)\n",
            "Requirement already satisfied: urllib3<3,>=1.26 in /usr/local/lib/python3.10/dist-packages (from urllib3[socks]<3,>=1.26->selenium) (2.2.3)\n",
            "Requirement already satisfied: trio~=0.17 in /usr/local/lib/python3.10/dist-packages (from selenium) (0.27.0)\n",
            "Requirement already satisfied: trio-websocket~=0.9 in /usr/local/lib/python3.10/dist-packages (from selenium) (0.11.1)\n",
            "Requirement already satisfied: certifi>=2021.10.8 in /usr/local/lib/python3.10/dist-packages (from selenium) (2024.8.30)\n",
            "Requirement already satisfied: typing_extensions~=4.9 in /usr/local/lib/python3.10/dist-packages (from selenium) (4.12.2)\n",
            "Requirement already satisfied: websocket-client~=1.8 in /usr/local/lib/python3.10/dist-packages (from selenium) (1.8.0)\n",
            "Requirement already satisfied: attrs>=23.2.0 in /usr/local/lib/python3.10/dist-packages (from trio~=0.17->selenium) (24.2.0)\n",
            "Requirement already satisfied: sortedcontainers in /usr/local/lib/python3.10/dist-packages (from trio~=0.17->selenium) (2.4.0)\n",
            "Requirement already satisfied: idna in /usr/local/lib/python3.10/dist-packages (from trio~=0.17->selenium) (3.10)\n",
            "Requirement already satisfied: outcome in /usr/local/lib/python3.10/dist-packages (from trio~=0.17->selenium) (1.3.0.post0)\n",
            "Requirement already satisfied: sniffio>=1.3.0 in /usr/local/lib/python3.10/dist-packages (from trio~=0.17->selenium) (1.3.1)\n",
            "Requirement already satisfied: exceptiongroup in /usr/local/lib/python3.10/dist-packages (from trio~=0.17->selenium) (1.2.2)\n",
            "Requirement already satisfied: wsproto>=0.14 in /usr/local/lib/python3.10/dist-packages (from trio-websocket~=0.9->selenium) (1.2.0)\n",
            "Requirement already satisfied: pysocks!=1.5.7,<2.0,>=1.5.6 in /usr/local/lib/python3.10/dist-packages (from urllib3[socks]<3,>=1.26->selenium) (1.7.1)\n",
            "Requirement already satisfied: h11<1,>=0.9.0 in /usr/local/lib/python3.10/dist-packages (from wsproto>=0.14->trio-websocket~=0.9->selenium) (0.14.0)\n",
            "Hit:1 https://cloud.r-project.org/bin/linux/ubuntu jammy-cran40/ InRelease\n",
            "Hit:2 https://developer.download.nvidia.com/compute/cuda/repos/ubuntu2204/x86_64  InRelease\n",
            "Hit:3 http://archive.ubuntu.com/ubuntu jammy InRelease\n",
            "Hit:4 http://archive.ubuntu.com/ubuntu jammy-updates InRelease\n",
            "Hit:5 http://security.ubuntu.com/ubuntu jammy-security InRelease\n",
            "Hit:6 http://archive.ubuntu.com/ubuntu jammy-backports InRelease\n",
            "Get:7 https://r2u.stat.illinois.edu/ubuntu jammy InRelease [6,555 B]\n",
            "Hit:8 https://ppa.launchpadcontent.net/deadsnakes/ppa/ubuntu jammy InRelease\n",
            "Hit:9 https://ppa.launchpadcontent.net/graphics-drivers/ppa/ubuntu jammy InRelease\n",
            "Hit:10 https://ppa.launchpadcontent.net/ubuntugis/ppa/ubuntu jammy InRelease\n",
            "Get:11 https://r2u.stat.illinois.edu/ubuntu jammy/main all Packages [8,437 kB]\n",
            "Get:12 https://r2u.stat.illinois.edu/ubuntu jammy/main amd64 Packages [2,605 kB]\n",
            "Fetched 11.0 MB in 5s (2,060 kB/s)\n",
            "Reading package lists... Done\n",
            "W: Skipping acquire of configured file 'main/source/Sources' as repository 'https://r2u.stat.illinois.edu/ubuntu jammy InRelease' does not seem to provide it (sources.list entry misspelt?)\n",
            "Reading package lists... Done\n",
            "Building dependency tree... Done\n",
            "Reading state information... Done\n",
            "chromium-chromedriver is already the newest version (1:85.0.4183.83-0ubuntu2.22.04.1).\n",
            "0 upgraded, 0 newly installed, 0 to remove and 51 not upgraded.\n",
            "cp: '/usr/lib/chromium-browser/chromedriver' and '/usr/bin/chromedriver' are the same file\n"
          ]
        }
      ]
    },
    {
      "cell_type": "code",
      "source": [
        "from selenium import webdriver\n",
        "from selenium.webdriver.common.by import By\n",
        "import time\n",
        "\n",
        "\n",
        "options= webdriver.ChromeOptions()\n",
        "options.add_argument('--headless')\n",
        "options.add_argument('--no-sandbox')\n",
        "options.add_argument('--disable-dev-shm-usage')\n",
        "\n",
        "\n",
        "driver = webdriver.Chrome(options=options)\n",
        "\n",
        "\n",
        "url = \"https://listado.mercadolibre.com.co/guitarra-electrica#D[A:guitarra%20electrica]\"\n",
        "\n",
        "driver.get(url)\n",
        "\n",
        "time.sleep(5)\n",
        "\n",
        "titulos = driver.find_elements(By.TAG_NAME,'h2')\n",
        "\n",
        "for titulo in titulos:\n",
        "  print(titulo.text)\n",
        "\n",
        "driver.quit()"
      ],
      "metadata": {
        "colab": {
          "base_uri": "https://localhost:8080/"
        },
        "id": "SxS1XVr95_l0",
        "outputId": "e9288309-5da4-4cb0-8f8f-4d4d50e0f034"
      },
      "execution_count": null,
      "outputs": [
        {
          "output_type": "stream",
          "name": "stdout",
          "text": [
            "Guitarra Electrica Stingrey Strato Estudiantil Con Accesorio\n",
            "Chord Trainer, Madera, Para Practicar Guitarra, Acordes Para\n",
            "Guitarra Eléctrica Femmto EG001 Stratocaster con Amplificador y Accesorios\n",
            "Guitarra eléctrica Ibanez RG GIO GRG121DX soloist de álamo black flat con diapasón de amaranto\n",
            "Guitarra eléctrica Squier by Fender Classic Vibe '70s Jaguar de álamo 3-color sunburst poliuretano brillante con diapasón de laurel indio\n",
            "Guitarra eléctrica Cort CR Series CR250 de caoba black transparent con diapasón de jatoba\n",
            "Guitarra eléctrica Cort CR Series CR300 single-cutaway de caoba aged vintage sunburst semibrillante con diapasón de jatoba\n",
            "Guitarra eléctrica Cort X Series X100 de meranti black cherry poro abierto con diapasón de jatoba\n",
            "Kit Guitarra Eléctrica Fender Squier Bullet - Stratocaster\n",
            "Combo Guitarra Electricapk Squier Strat Blk Gb 10g 120v37182\n",
            "Kit Guitarra Eléctrica Sq Stratocaster Satin Seafoam Green\n",
            "Guitarra Electrica Fender -squier En Combo/ Stratocaster Aff\n",
            "Guitarra Electrica Fender Squier Mustang Classic Vibe 60s\n",
            "Guitarra Eléctrica Ayson Tipo Ibanez Gr 170\n",
            "Guitarra Electrica EpiPhone Les Paul Standard\n",
            "Kit Guitarra Eléctrica Amplificador 15w + Accesorios\n",
            "Guitarra Electrica Sq Telecaster Series Deluxe\n",
            "Guitarra Eléctrica Greko Tipo Ibañez 270\n",
            "Guitarra Electrica Sq Telecaster Series\n",
            "Kit Guitarra Eléctrica Chateau Strat St01\n",
            "Guitarra Eléctrica EpiPhone Sg Standard\n",
            "Guitarra eléctrica Epiphone Les Paul Studio LT E1 de caoba violin sunburst con diapasón de palo de rosa\n",
            "Guitarra eléctrica Cort CR Series CR200 de caoba gold top con diapasón de jatoba\n",
            "Guitarra eléctrica Tagima Classic Series T-635 Classic de aliso olympic white with mint green shell con diapasón de madera técnica\n",
            "Guitarra eléctrica Fender Player Stratocaster HSS de aliso 3-color sunburst brillante con diapasón de arce\n",
            "Guitarra eléctrica Squier by Fender Affinity Series Stratocaster de álamo olympic white brillante con diapasón de arce\n",
            "Guitarra eléctrica Tagima Classic Series T-635 Classic de aliso white con diapasón de arce\n",
            "Guitarra eléctrica Cort CR Series CR200 de caoba inverted blue con diapasón de jatoba\n",
            "Guitarra eléctrica Squier by Fender Classic Vibe '70s Stratocaster de arce natural brillante con diapasón de laurel indio\n",
            "Guitarra eléctrica Tagima Classic Series T-635 Classic de aliso surf green con diapasón de madera técnica\n",
            "Guitarra eléctrica infantil para zurdo Squier by Fender Mini stratocaster de álamo black brillante con diapasón de laurel indio\n",
            "Guitarra eléctrica Ibanez RG GIO GRX40 de álamo black night con diapasón de jatoba\n",
            "Guitarra eléctrica Tagima Classic Series T-635 Classic de aliso black with mint green shell con diapasón de arce\n",
            "Guitarra Stratocaster Cort G110 Opsb Open Pore Sunburst\n",
            "Guitarra Electrica Stingrey Strato Estudiantil Con Accesorio\n",
            "Guitarra Eléctrica Squier By Fender Affinity Telecaster Cuo Color 2-color Sunburst Material Del Diapasón Arce Orientación De La Mano Diestro\n",
            "Guitarra eléctrica Squier by Fender Classic Vibe '60s Jazzmaster de álamo sonic blue brillante con diapasón de laurel indio\n",
            "Guitarra eléctrica Squier by Fender Affinity Series Stratocaster de álamo 3-color sunburst brillante con diapasón de laurel indio\n",
            "Guitarra eléctrica Tagima Brasil T-805 de cedro olympic white con diapasón de granadillo brasileño\n",
            "Guitarra Ibanez Rg370 Ahmz Blue Moon Burst con Floyd Rose\n",
            "Guitarra Eléctrica Gretsch G2655t Stirling Green Streamliner Color Verde Musgo Material Del Diapasón Laurel Orientación De La Mano Diestro\n",
            "Guitarra Squier Affinity Stratocaster Mn Wpg Blk de color negro\n",
            "Guitarra eléctrica Tagima TW Series TG-500 de tilo candy apple con diapasón de madera técnica\n",
            "Guitarra Eléctrica Vox Sdc-1 Mini Escala Corta Humbucker Cuo\n",
            "Guitarra Eléctrica Cort Modelo MBM1SBLK Color Negro Satinado\n",
            "Guitarra Electrica Tipo Stratocaster Nueva\n",
            "Guitarra eléctrica Ibanez RG GIO GRX70QA gio de álamo transparent blue burst con diapasón de amaranto\n",
            "Guitarra Eléctrica Lp Smiger G9\n",
            "Guitarra Eléctrica 53db Con Estuche Mk53hdtero W-case Michae\n",
            "Guitarra eléctrica Fender Player Stratocaster HSS Plus Top de aliso/arce aged cherry burst poliuretano brillante con diapasón de arce\n",
            "Guitarra Eléctrica Deviser Sg10 Bk\n",
            "Guitarra Eléctrica Smiger Telecaster S-g17\n",
            "Guitarra Electrica\n",
            "Destacado en Instrumentos Musicales\n",
            "Más información\n",
            "Conoce el envío a tu ubicación\n"
          ]
        }
      ]
    },
    {
      "cell_type": "code",
      "source": [
        "import requests\n",
        "from bs4 import BeautifulSoup\n",
        "\n",
        "url = \"https://listado.mercadolibre.com.co/guitarra-electrica#D[A:guitarra%20electrica]\"\n",
        "response = requests.get(url)\n",
        "\n",
        "soup = BeautifulSoup(response.content, 'html.parser')\n",
        "titulos = soup.find_all('h2')\n",
        "\n",
        "for titulo in titulos:\n",
        "    print(titulo.text)\n"
      ],
      "metadata": {
        "colab": {
          "base_uri": "https://localhost:8080/"
        },
        "id": "GNGI2zS560db",
        "outputId": "c0f46417-6154-4e0d-a9bd-ac3fd95735c2"
      },
      "execution_count": null,
      "outputs": [
        {
          "output_type": "stream",
          "name": "stdout",
          "text": [
            "Guitarra Electrica Stingrey Strato Estudiantil Con Accesorio\n",
            "Guitarra Eléctrica Effect Maker Bypass Dolamo True Clear D-6\n",
            "Guitarra Eléctrica Femmto EG001 Stratocaster con Amplificador y Accesorios ﻿\n",
            "Guitarra eléctrica Ibanez RG GIO GRG121DX soloist de álamo black flat con diapasón de amaranto\n",
            "Guitarra eléctrica Squier by Fender Classic Vibe '70s Jaguar de álamo 3-color sunburst poliuretano brillante con diapasón de laurel indio\n",
            "Guitarra eléctrica Cort CR Series CR250 de caoba black transparent con diapasón de jatoba\n",
            "Guitarra eléctrica Cort CR Series CR300 single-cutaway de caoba aged vintage sunburst semibrillante con diapasón de jatoba\n",
            "Guitarra eléctrica Cort X Series X100 de meranti black cherry poro abierto con diapasón de jatoba\n",
            "Kit Guitarra Eléctrica Fender Squier Bullet - Stratocaster \n",
            "Combo Guitarra Electricapk Squier Strat Blk Gb 10g 120v37182\n",
            "Kit Guitarra Eléctrica Sq Stratocaster Satin Seafoam Green\n",
            "Guitarra Electrica Fender -squier En Combo/ Stratocaster Aff\n",
            "Guitarra Electrica Fender Squier   Mustang Classic Vibe 60s \n",
            "Guitarra Eléctrica Ayson Tipo Ibanez Gr 170\n",
            "Guitarra Electrica EpiPhone Les Paul Standard\n",
            "Kit Guitarra Eléctrica Amplificador 15w + Accesorios\n",
            "Guitarra Electrica Sq Telecaster Series Deluxe\n",
            "Guitarra Eléctrica Greko Tipo Ibañez 270\n",
            "Guitarra Electrica Sq Telecaster Series\n",
            "Kit Guitarra Eléctrica Chateau Strat St01\n",
            "Guitarra Eléctrica EpiPhone Sg Standard\n",
            "Guitarra eléctrica Epiphone Les Paul Studio LT E1 de caoba violin sunburst con diapasón de palo de rosa\n",
            "Guitarra eléctrica Cort CR Series CR200 de caoba gold top con diapasón de jatoba\n",
            "Guitarra eléctrica Tagima Classic Series T-635 Classic de aliso olympic white with mint green shell con diapasón de madera técnica\n",
            "Guitarra eléctrica Fender Player Stratocaster HSS de aliso 3-color sunburst brillante con diapasón de arce\n",
            "Guitarra eléctrica Squier by Fender Affinity Series Stratocaster de álamo olympic white brillante con diapasón de arce\n",
            "Guitarra eléctrica Tagima Classic Series T-635 Classic de aliso white con diapasón de arce\n",
            "Guitarra eléctrica Cort CR Series CR200 de caoba inverted blue con diapasón de jatoba\n",
            "Guitarra eléctrica Squier by Fender Classic Vibe '70s Stratocaster de arce natural brillante con diapasón de laurel indio\n",
            "Guitarra eléctrica Tagima Classic Series T-635 Classic de aliso surf green con diapasón de madera técnica\n",
            "Guitarra eléctrica infantil para zurdo Squier by Fender Mini stratocaster de álamo black brillante con diapasón de laurel indio\n",
            "Guitarra eléctrica Ibanez RG GIO GRX40 de álamo black night con diapasón de jatoba\n",
            "Guitarra eléctrica Tagima Classic Series T-635 Classic de aliso black with mint green shell con diapasón de arce\n",
            "Guitarra Stratocaster Cort G110 Opsb Open Pore Sunburst\n",
            "Guitarra Electrica Stingrey Strato Estudiantil Con Accesorio\n",
            "Guitarra Eléctrica Squier By Fender Affinity Telecaster Cuo Color 2-color Sunburst Material Del Diapasón Arce Orientación De La Mano Diestro\n",
            "Guitarra eléctrica Squier by Fender Classic Vibe '60s Jazzmaster de álamo sonic blue brillante con diapasón de laurel indio\n",
            "Guitarra eléctrica Squier by Fender Affinity Series Stratocaster de álamo 3-color sunburst brillante con diapasón de laurel indio\n",
            "Guitarra eléctrica Tagima Brasil T-805 de cedro olympic white con diapasón de granadillo brasileño\n",
            "Guitarra Ibanez Rg370 Ahmz Blue Moon Burst con Floyd Rose\n",
            "Guitarra Eléctrica Gretsch G2655t Stirling Green Streamliner Color Verde Musgo Material Del Diapasón Laurel Orientación De La Mano Diestro\n",
            "Guitarra Squier Affinity Stratocaster Mn Wpg Blk de color negro\n",
            "Guitarra eléctrica Tagima TW Series TG-500 de tilo candy apple con diapasón de madera técnica\n",
            "Guitarra Eléctrica Vox Sdc-1 Mini Escala Corta Humbucker Cuo\n",
            "Guitarra Eléctrica Cort  Modelo MBM1SBLK Color Negro Satinado\n",
            "Guitarra Electrica Tipo Stratocaster Nueva\n",
            "Guitarra eléctrica Ibanez RG GIO GRX70QA gio de álamo transparent blue burst con diapasón de amaranto\n",
            "Guitarra Eléctrica Lp Smiger G9\n",
            "Guitarra Eléctrica 53db Con Estuche Mk53hdtero W-case Michae\n",
            "Guitarra eléctrica Fender Player Stratocaster HSS Plus Top de aliso/arce aged cherry burst poliuretano brillante con diapasón de arce\n",
            "Guitarra Eléctrica Deviser Sg10 Bk\n",
            "Guitarra Eléctrica Smiger Telecaster S-g17\n",
            "guitarra electrica\n",
            "Destacado en Instrumentos Musicales\n",
            "Más información \n"
          ]
        }
      ]
    },
    {
      "cell_type": "code",
      "source": [
        "!pip install scrapy\n"
      ],
      "metadata": {
        "colab": {
          "base_uri": "https://localhost:8080/"
        },
        "id": "G0LlKqRM7DRD",
        "outputId": "8b6b6099-3f70-4017-c54f-ce2d7945c4a2"
      },
      "execution_count": null,
      "outputs": [
        {
          "output_type": "stream",
          "name": "stdout",
          "text": [
            "Requirement already satisfied: scrapy in /usr/local/lib/python3.10/dist-packages (2.11.2)\n",
            "Requirement already satisfied: Twisted>=18.9.0 in /usr/local/lib/python3.10/dist-packages (from scrapy) (24.10.0)\n",
            "Requirement already satisfied: cryptography>=36.0.0 in /usr/local/lib/python3.10/dist-packages (from scrapy) (43.0.3)\n",
            "Requirement already satisfied: cssselect>=0.9.1 in /usr/local/lib/python3.10/dist-packages (from scrapy) (1.2.0)\n",
            "Requirement already satisfied: itemloaders>=1.0.1 in /usr/local/lib/python3.10/dist-packages (from scrapy) (1.3.2)\n",
            "Requirement already satisfied: parsel>=1.5.0 in /usr/local/lib/python3.10/dist-packages (from scrapy) (1.9.1)\n",
            "Requirement already satisfied: pyOpenSSL>=21.0.0 in /usr/local/lib/python3.10/dist-packages (from scrapy) (24.2.1)\n",
            "Requirement already satisfied: queuelib>=1.4.2 in /usr/local/lib/python3.10/dist-packages (from scrapy) (1.7.0)\n",
            "Requirement already satisfied: service-identity>=18.1.0 in /usr/local/lib/python3.10/dist-packages (from scrapy) (24.2.0)\n",
            "Requirement already satisfied: w3lib>=1.17.0 in /usr/local/lib/python3.10/dist-packages (from scrapy) (2.2.1)\n",
            "Requirement already satisfied: zope.interface>=5.1.0 in /usr/local/lib/python3.10/dist-packages (from scrapy) (7.1.1)\n",
            "Requirement already satisfied: protego>=0.1.15 in /usr/local/lib/python3.10/dist-packages (from scrapy) (0.3.1)\n",
            "Requirement already satisfied: itemadapter>=0.1.0 in /usr/local/lib/python3.10/dist-packages (from scrapy) (0.9.0)\n",
            "Requirement already satisfied: setuptools in /usr/local/lib/python3.10/dist-packages (from scrapy) (75.1.0)\n",
            "Requirement already satisfied: packaging in /usr/local/lib/python3.10/dist-packages (from scrapy) (24.1)\n",
            "Requirement already satisfied: tldextract in /usr/local/lib/python3.10/dist-packages (from scrapy) (5.1.2)\n",
            "Requirement already satisfied: lxml>=4.4.1 in /usr/local/lib/python3.10/dist-packages (from scrapy) (5.3.0)\n",
            "Requirement already satisfied: defusedxml>=0.7.1 in /usr/local/lib/python3.10/dist-packages (from scrapy) (0.7.1)\n",
            "Requirement already satisfied: PyDispatcher>=2.0.5 in /usr/local/lib/python3.10/dist-packages (from scrapy) (2.0.7)\n",
            "Requirement already satisfied: cffi>=1.12 in /usr/local/lib/python3.10/dist-packages (from cryptography>=36.0.0->scrapy) (1.17.1)\n",
            "Requirement already satisfied: jmespath>=0.9.5 in /usr/local/lib/python3.10/dist-packages (from itemloaders>=1.0.1->scrapy) (1.0.1)\n",
            "Requirement already satisfied: attrs>=19.1.0 in /usr/local/lib/python3.10/dist-packages (from service-identity>=18.1.0->scrapy) (24.2.0)\n",
            "Requirement already satisfied: pyasn1 in /usr/local/lib/python3.10/dist-packages (from service-identity>=18.1.0->scrapy) (0.6.1)\n",
            "Requirement already satisfied: pyasn1-modules in /usr/local/lib/python3.10/dist-packages (from service-identity>=18.1.0->scrapy) (0.4.1)\n",
            "Requirement already satisfied: automat>=24.8.0 in /usr/local/lib/python3.10/dist-packages (from Twisted>=18.9.0->scrapy) (24.8.1)\n",
            "Requirement already satisfied: constantly>=15.1 in /usr/local/lib/python3.10/dist-packages (from Twisted>=18.9.0->scrapy) (23.10.4)\n",
            "Requirement already satisfied: hyperlink>=17.1.1 in /usr/local/lib/python3.10/dist-packages (from Twisted>=18.9.0->scrapy) (21.0.0)\n",
            "Requirement already satisfied: incremental>=24.7.0 in /usr/local/lib/python3.10/dist-packages (from Twisted>=18.9.0->scrapy) (24.7.2)\n",
            "Requirement already satisfied: typing-extensions>=4.2.0 in /usr/local/lib/python3.10/dist-packages (from Twisted>=18.9.0->scrapy) (4.12.2)\n",
            "Requirement already satisfied: idna in /usr/local/lib/python3.10/dist-packages (from tldextract->scrapy) (3.10)\n",
            "Requirement already satisfied: requests>=2.1.0 in /usr/local/lib/python3.10/dist-packages (from tldextract->scrapy) (2.32.3)\n",
            "Requirement already satisfied: requests-file>=1.4 in /usr/local/lib/python3.10/dist-packages (from tldextract->scrapy) (2.1.0)\n",
            "Requirement already satisfied: filelock>=3.0.8 in /usr/local/lib/python3.10/dist-packages (from tldextract->scrapy) (3.16.1)\n",
            "Requirement already satisfied: pycparser in /usr/local/lib/python3.10/dist-packages (from cffi>=1.12->cryptography>=36.0.0->scrapy) (2.22)\n",
            "Requirement already satisfied: tomli in /usr/local/lib/python3.10/dist-packages (from incremental>=24.7.0->Twisted>=18.9.0->scrapy) (2.0.2)\n",
            "Requirement already satisfied: charset-normalizer<4,>=2 in /usr/local/lib/python3.10/dist-packages (from requests>=2.1.0->tldextract->scrapy) (3.4.0)\n",
            "Requirement already satisfied: urllib3<3,>=1.21.1 in /usr/local/lib/python3.10/dist-packages (from requests>=2.1.0->tldextract->scrapy) (2.2.3)\n",
            "Requirement already satisfied: certifi>=2017.4.17 in /usr/local/lib/python3.10/dist-packages (from requests>=2.1.0->tldextract->scrapy) (2024.8.30)\n"
          ]
        }
      ]
    },
    {
      "cell_type": "code",
      "source": [
        "import scrapy\n",
        "from scrapy.crawler import CrawlerProcess\n",
        "\n",
        "class GuitarraSpider(scrapy.Spider):\n",
        "    name = \"guitarra_spider\"\n",
        "    start_urls = [\n",
        "        'https://listado.mercadolibre.com.co/guitarra-electrica#D[A:guitarra%20electrica]'\n",
        "    ]\n",
        "\n",
        "    custom_settings = {\n",
        "        'DOWNLOAD_DELAY': 20,  # Tiempo de espera entre solicitudes en segundos\n",
        "        'CONCURRENT_REQUESTS_PER_DOMAIN': 1,  # Solo hacer una solicitud a la vez\n",
        "        'FEEDS': {\n",
        "            'titulos.json': {'format': 'json'},\n",
        "        },\n",
        "        'USER_AGENT': 'Mozilla/5.0 (Windows NT 10.0; Win64; x64) AppleWebKit/537.36 (KHTML, like Gecko) Chrome/85.0.4183.121 Safari/537.36',\n",
        "    }\n",
        "\n",
        "    def parse(self, response):\n",
        "        if response.status == 403:\n",
        "            self.logger.warning(\"Se recibió un código 403, posiblemente bloqueado por el servidor.\")\n",
        "            return\n",
        "\n",
        "        titulos = response.css('h2::text').getall()\n",
        "        for titulo in titulos:\n",
        "            yield {'titulo': titulo}\n",
        "\n",
        "# Configuración del proceso\n",
        "process = CrawlerProcess()\n",
        "process.crawl(GuitarraSpider)\n",
        "process.start()\n"
      ],
      "metadata": {
        "colab": {
          "base_uri": "https://localhost:8080/"
        },
        "id": "PGWAOG4172-7",
        "outputId": "92a2907c-d8af-439e-b295-7691eee1ce42"
      },
      "execution_count": null,
      "outputs": [
        {
          "output_type": "stream",
          "name": "stderr",
          "text": [
            "INFO:scrapy.utils.log:Scrapy 2.11.2 started (bot: scrapybot)\n",
            "2024-11-04 02:16:03 [scrapy.utils.log] INFO: Scrapy 2.11.2 started (bot: scrapybot)\n",
            "INFO:scrapy.utils.log:Versions: lxml 5.3.0.0, libxml2 2.12.9, cssselect 1.2.0, parsel 1.9.1, w3lib 2.2.1, Twisted 24.10.0, Python 3.10.12 (main, Sep 11 2024, 15:47:36) [GCC 11.4.0], pyOpenSSL 24.2.1 (OpenSSL 3.3.2 3 Sep 2024), cryptography 43.0.3, Platform Linux-6.1.85+-x86_64-with-glibc2.35\n",
            "2024-11-04 02:16:03 [scrapy.utils.log] INFO: Versions: lxml 5.3.0.0, libxml2 2.12.9, cssselect 1.2.0, parsel 1.9.1, w3lib 2.2.1, Twisted 24.10.0, Python 3.10.12 (main, Sep 11 2024, 15:47:36) [GCC 11.4.0], pyOpenSSL 24.2.1 (OpenSSL 3.3.2 3 Sep 2024), cryptography 43.0.3, Platform Linux-6.1.85+-x86_64-with-glibc2.35\n",
            "INFO:scrapy.addons:Enabled addons:\n",
            "[]\n",
            "2024-11-04 02:16:03 [scrapy.addons] INFO: Enabled addons:\n",
            "[]\n",
            "/usr/local/lib/python3.10/dist-packages/scrapy/utils/request.py:254: ScrapyDeprecationWarning: '2.6' is a deprecated value for the 'REQUEST_FINGERPRINTER_IMPLEMENTATION' setting.\n",
            "\n",
            "It is also the default value. In other words, it is normal to get this warning if you have not defined a value for the 'REQUEST_FINGERPRINTER_IMPLEMENTATION' setting. This is so for backward compatibility reasons, but it will change in a future version of Scrapy.\n",
            "\n",
            "See the documentation of the 'REQUEST_FINGERPRINTER_IMPLEMENTATION' setting for information on how to handle this deprecation.\n",
            "  return cls(crawler)\n",
            "DEBUG:scrapy.utils.log:Using reactor: twisted.internet.epollreactor.EPollReactor\n",
            "2024-11-04 02:16:03 [scrapy.utils.log] DEBUG: Using reactor: twisted.internet.epollreactor.EPollReactor\n",
            "INFO:scrapy.extensions.telnet:Telnet Password: 392bd89234e3378e\n",
            "2024-11-04 02:16:03 [scrapy.extensions.telnet] INFO: Telnet Password: 392bd89234e3378e\n",
            "INFO:scrapy.middleware:Enabled extensions:\n",
            "['scrapy.extensions.corestats.CoreStats',\n",
            " 'scrapy.extensions.telnet.TelnetConsole',\n",
            " 'scrapy.extensions.memusage.MemoryUsage',\n",
            " 'scrapy.extensions.feedexport.FeedExporter',\n",
            " 'scrapy.extensions.logstats.LogStats']\n",
            "2024-11-04 02:16:03 [scrapy.middleware] INFO: Enabled extensions:\n",
            "['scrapy.extensions.corestats.CoreStats',\n",
            " 'scrapy.extensions.telnet.TelnetConsole',\n",
            " 'scrapy.extensions.memusage.MemoryUsage',\n",
            " 'scrapy.extensions.feedexport.FeedExporter',\n",
            " 'scrapy.extensions.logstats.LogStats']\n",
            "INFO:scrapy.crawler:Overridden settings:\n",
            "{'CONCURRENT_REQUESTS_PER_DOMAIN': 1,\n",
            " 'DOWNLOAD_DELAY': 20,\n",
            " 'USER_AGENT': 'Mozilla/5.0 (Windows NT 10.0; Win64; x64) AppleWebKit/537.36 '\n",
            "               '(KHTML, like Gecko) Chrome/85.0.4183.121 Safari/537.36'}\n",
            "2024-11-04 02:16:03 [scrapy.crawler] INFO: Overridden settings:\n",
            "{'CONCURRENT_REQUESTS_PER_DOMAIN': 1,\n",
            " 'DOWNLOAD_DELAY': 20,\n",
            " 'USER_AGENT': 'Mozilla/5.0 (Windows NT 10.0; Win64; x64) AppleWebKit/537.36 '\n",
            "               '(KHTML, like Gecko) Chrome/85.0.4183.121 Safari/537.36'}\n",
            "INFO:scrapy.middleware:Enabled downloader middlewares:\n",
            "['scrapy.downloadermiddlewares.offsite.OffsiteMiddleware',\n",
            " 'scrapy.downloadermiddlewares.httpauth.HttpAuthMiddleware',\n",
            " 'scrapy.downloadermiddlewares.downloadtimeout.DownloadTimeoutMiddleware',\n",
            " 'scrapy.downloadermiddlewares.defaultheaders.DefaultHeadersMiddleware',\n",
            " 'scrapy.downloadermiddlewares.useragent.UserAgentMiddleware',\n",
            " 'scrapy.downloadermiddlewares.retry.RetryMiddleware',\n",
            " 'scrapy.downloadermiddlewares.redirect.MetaRefreshMiddleware',\n",
            " 'scrapy.downloadermiddlewares.httpcompression.HttpCompressionMiddleware',\n",
            " 'scrapy.downloadermiddlewares.redirect.RedirectMiddleware',\n",
            " 'scrapy.downloadermiddlewares.cookies.CookiesMiddleware',\n",
            " 'scrapy.downloadermiddlewares.httpproxy.HttpProxyMiddleware',\n",
            " 'scrapy.downloadermiddlewares.stats.DownloaderStats']\n",
            "2024-11-04 02:16:03 [scrapy.middleware] INFO: Enabled downloader middlewares:\n",
            "['scrapy.downloadermiddlewares.offsite.OffsiteMiddleware',\n",
            " 'scrapy.downloadermiddlewares.httpauth.HttpAuthMiddleware',\n",
            " 'scrapy.downloadermiddlewares.downloadtimeout.DownloadTimeoutMiddleware',\n",
            " 'scrapy.downloadermiddlewares.defaultheaders.DefaultHeadersMiddleware',\n",
            " 'scrapy.downloadermiddlewares.useragent.UserAgentMiddleware',\n",
            " 'scrapy.downloadermiddlewares.retry.RetryMiddleware',\n",
            " 'scrapy.downloadermiddlewares.redirect.MetaRefreshMiddleware',\n",
            " 'scrapy.downloadermiddlewares.httpcompression.HttpCompressionMiddleware',\n",
            " 'scrapy.downloadermiddlewares.redirect.RedirectMiddleware',\n",
            " 'scrapy.downloadermiddlewares.cookies.CookiesMiddleware',\n",
            " 'scrapy.downloadermiddlewares.httpproxy.HttpProxyMiddleware',\n",
            " 'scrapy.downloadermiddlewares.stats.DownloaderStats']\n",
            "INFO:scrapy.middleware:Enabled spider middlewares:\n",
            "['scrapy.spidermiddlewares.httperror.HttpErrorMiddleware',\n",
            " 'scrapy.spidermiddlewares.referer.RefererMiddleware',\n",
            " 'scrapy.spidermiddlewares.urllength.UrlLengthMiddleware',\n",
            " 'scrapy.spidermiddlewares.depth.DepthMiddleware']\n",
            "2024-11-04 02:16:03 [scrapy.middleware] INFO: Enabled spider middlewares:\n",
            "['scrapy.spidermiddlewares.httperror.HttpErrorMiddleware',\n",
            " 'scrapy.spidermiddlewares.referer.RefererMiddleware',\n",
            " 'scrapy.spidermiddlewares.urllength.UrlLengthMiddleware',\n",
            " 'scrapy.spidermiddlewares.depth.DepthMiddleware']\n",
            "INFO:scrapy.middleware:Enabled item pipelines:\n",
            "[]\n",
            "2024-11-04 02:16:03 [scrapy.middleware] INFO: Enabled item pipelines:\n",
            "[]\n",
            "INFO:scrapy.core.engine:Spider opened\n",
            "2024-11-04 02:16:03 [scrapy.core.engine] INFO: Spider opened\n",
            "INFO:scrapy.extensions.logstats:Crawled 0 pages (at 0 pages/min), scraped 0 items (at 0 items/min)\n",
            "2024-11-04 02:16:03 [scrapy.extensions.logstats] INFO: Crawled 0 pages (at 0 pages/min), scraped 0 items (at 0 items/min)\n",
            "INFO:scrapy.extensions.telnet:Telnet console listening on 127.0.0.1:6023\n",
            "2024-11-04 02:16:03 [scrapy.extensions.telnet] INFO: Telnet console listening on 127.0.0.1:6023\n",
            "DEBUG:scrapy.core.engine:Crawled (200) <GET https://listado.mercadolibre.com.co/guitarra-electrica#D%5BA:guitarra%20electrica%5D> (referer: None)\n",
            "2024-11-04 02:16:05 [scrapy.core.engine] DEBUG: Crawled (200) <GET https://listado.mercadolibre.com.co/guitarra-electrica#D%5BA:guitarra%20electrica%5D> (referer: None)\n",
            "DEBUG:scrapy.core.scraper:Scraped from <200 https://listado.mercadolibre.com.co/guitarra-electrica>\n",
            "{'titulo': 'guitarra electrica'}\n",
            "2024-11-04 02:16:06 [scrapy.core.scraper] DEBUG: Scraped from <200 https://listado.mercadolibre.com.co/guitarra-electrica>\n",
            "{'titulo': 'guitarra electrica'}\n",
            "DEBUG:scrapy.core.scraper:Scraped from <200 https://listado.mercadolibre.com.co/guitarra-electrica>\n",
            "{'titulo': 'Destacado en Instrumentos Musicales'}\n",
            "2024-11-04 02:16:06 [scrapy.core.scraper] DEBUG: Scraped from <200 https://listado.mercadolibre.com.co/guitarra-electrica>\n",
            "{'titulo': 'Destacado en Instrumentos Musicales'}\n",
            "INFO:scrapy.core.engine:Closing spider (finished)\n",
            "2024-11-04 02:16:06 [scrapy.core.engine] INFO: Closing spider (finished)\n",
            "INFO:scrapy.extensions.feedexport:Stored json feed (2 items) in: titulos.json\n",
            "2024-11-04 02:16:06 [scrapy.extensions.feedexport] INFO: Stored json feed (2 items) in: titulos.json\n",
            "INFO:scrapy.statscollectors:Dumping Scrapy stats:\n",
            "{'downloader/request_bytes': 326,\n",
            " 'downloader/request_count': 1,\n",
            " 'downloader/request_method_count/GET': 1,\n",
            " 'downloader/response_bytes': 273132,\n",
            " 'downloader/response_count': 1,\n",
            " 'downloader/response_status_count/200': 1,\n",
            " 'elapsed_time_seconds': 2.517616,\n",
            " 'feedexport/success_count/FileFeedStorage': 1,\n",
            " 'finish_reason': 'finished',\n",
            " 'finish_time': datetime.datetime(2024, 11, 4, 2, 16, 6, 62396, tzinfo=datetime.timezone.utc),\n",
            " 'httpcompression/response_bytes': 1936804,\n",
            " 'httpcompression/response_count': 1,\n",
            " 'item_scraped_count': 2,\n",
            " 'log_count/DEBUG': 4,\n",
            " 'log_count/INFO': 11,\n",
            " 'memusage/max': 185126912,\n",
            " 'memusage/startup': 185126912,\n",
            " 'response_received_count': 1,\n",
            " 'scheduler/dequeued': 1,\n",
            " 'scheduler/dequeued/memory': 1,\n",
            " 'scheduler/enqueued': 1,\n",
            " 'scheduler/enqueued/memory': 1,\n",
            " 'start_time': datetime.datetime(2024, 11, 4, 2, 16, 3, 544780, tzinfo=datetime.timezone.utc)}\n",
            "2024-11-04 02:16:06 [scrapy.statscollectors] INFO: Dumping Scrapy stats:\n",
            "{'downloader/request_bytes': 326,\n",
            " 'downloader/request_count': 1,\n",
            " 'downloader/request_method_count/GET': 1,\n",
            " 'downloader/response_bytes': 273132,\n",
            " 'downloader/response_count': 1,\n",
            " 'downloader/response_status_count/200': 1,\n",
            " 'elapsed_time_seconds': 2.517616,\n",
            " 'feedexport/success_count/FileFeedStorage': 1,\n",
            " 'finish_reason': 'finished',\n",
            " 'finish_time': datetime.datetime(2024, 11, 4, 2, 16, 6, 62396, tzinfo=datetime.timezone.utc),\n",
            " 'httpcompression/response_bytes': 1936804,\n",
            " 'httpcompression/response_count': 1,\n",
            " 'item_scraped_count': 2,\n",
            " 'log_count/DEBUG': 4,\n",
            " 'log_count/INFO': 11,\n",
            " 'memusage/max': 185126912,\n",
            " 'memusage/startup': 185126912,\n",
            " 'response_received_count': 1,\n",
            " 'scheduler/dequeued': 1,\n",
            " 'scheduler/dequeued/memory': 1,\n",
            " 'scheduler/enqueued': 1,\n",
            " 'scheduler/enqueued/memory': 1,\n",
            " 'start_time': datetime.datetime(2024, 11, 4, 2, 16, 3, 544780, tzinfo=datetime.timezone.utc)}\n",
            "INFO:scrapy.core.engine:Spider closed (finished)\n",
            "2024-11-04 02:16:06 [scrapy.core.engine] INFO: Spider closed (finished)\n"
          ]
        }
      ]
    },
    {
      "cell_type": "code",
      "source": [
        "from google.colab import files\n",
        "files.download('titulos.json')\n",
        "\n"
      ],
      "metadata": {
        "colab": {
          "base_uri": "https://localhost:8080/",
          "height": 17
        },
        "id": "SONRn1Wh8BOr",
        "outputId": "26b03b0f-d9b0-4207-8c2b-80d7c492b5b4"
      },
      "execution_count": null,
      "outputs": [
        {
          "output_type": "display_data",
          "data": {
            "text/plain": [
              "<IPython.core.display.Javascript object>"
            ],
            "application/javascript": [
              "\n",
              "    async function download(id, filename, size) {\n",
              "      if (!google.colab.kernel.accessAllowed) {\n",
              "        return;\n",
              "      }\n",
              "      const div = document.createElement('div');\n",
              "      const label = document.createElement('label');\n",
              "      label.textContent = `Downloading \"${filename}\": `;\n",
              "      div.appendChild(label);\n",
              "      const progress = document.createElement('progress');\n",
              "      progress.max = size;\n",
              "      div.appendChild(progress);\n",
              "      document.body.appendChild(div);\n",
              "\n",
              "      const buffers = [];\n",
              "      let downloaded = 0;\n",
              "\n",
              "      const channel = await google.colab.kernel.comms.open(id);\n",
              "      // Send a message to notify the kernel that we're ready.\n",
              "      channel.send({})\n",
              "\n",
              "      for await (const message of channel.messages) {\n",
              "        // Send a message to notify the kernel that we're ready.\n",
              "        channel.send({})\n",
              "        if (message.buffers) {\n",
              "          for (const buffer of message.buffers) {\n",
              "            buffers.push(buffer);\n",
              "            downloaded += buffer.byteLength;\n",
              "            progress.value = downloaded;\n",
              "          }\n",
              "        }\n",
              "      }\n",
              "      const blob = new Blob(buffers, {type: 'application/binary'});\n",
              "      const a = document.createElement('a');\n",
              "      a.href = window.URL.createObjectURL(blob);\n",
              "      a.download = filename;\n",
              "      div.appendChild(a);\n",
              "      a.click();\n",
              "      div.remove();\n",
              "    }\n",
              "  "
            ]
          },
          "metadata": {}
        },
        {
          "output_type": "display_data",
          "data": {
            "text/plain": [
              "<IPython.core.display.Javascript object>"
            ],
            "application/javascript": [
              "download(\"download_71759bea-5dd1-4324-8ec2-ee596a48fba7\", \"titulos.json\", 99)"
            ]
          },
          "metadata": {}
        }
      ]
    },
    {
      "cell_type": "markdown",
      "source": [
        "**Resultados y conclusiones.**\n",
        "\n",
        "En este proyecto de web scraping, utilicé tres enfoques para extraer datos de Mercado Libre: Selenium, que me permitió interactuar con la página cargada dinámicamente y facilitar la extracción de títulos de productos como \"Guitarra Eléctrica Stingrey Strato Estudiantil\"; Scrapy, un framework eficiente para estructurar el scraping, en el que configuré un retraso para evitar bloqueos; y la posibilidad de combinar ambos métodos para aprovechar las ventajas de cada uno. Gracias a estos enfoques, pude obtener una lista de guitarras eléctricas y entender mejor cómo cada herramienta se adapta a diferentes necesidades, siendo Selenium ideal para contenido dinámico y Scrapy para un scraping más rápido y organizado.\n",
        "\n",
        "\n",
        "\n",
        "\n",
        "\n",
        "\n"
      ],
      "metadata": {
        "id": "SdL9pOg-Y7Ft"
      }
    },
    {
      "cell_type": "markdown",
      "source": [
        "**Evidencia 2**\n"
      ],
      "metadata": {
        "id": "gOi-uGyRYdMF"
      }
    },
    {
      "cell_type": "markdown",
      "source": [
        "Introducción"
      ],
      "metadata": {
        "id": "kluIjq79eQ3o"
      }
    },
    {
      "cell_type": "markdown",
      "source": [
        "Descripción"
      ],
      "metadata": {
        "id": "qVb8FK7ce-cR"
      }
    },
    {
      "cell_type": "markdown",
      "source": [
        "Objetivo\n"
      ],
      "metadata": {
        "id": "7kGaIlOwfFGo"
      }
    },
    {
      "cell_type": "markdown",
      "source": [
        "Mejoras\n"
      ],
      "metadata": {
        "id": "tCc3gTUHfXA3"
      }
    },
    {
      "cell_type": "markdown",
      "source": [
        "Resultados y  conclusiones.\n"
      ],
      "metadata": {
        "id": "UjIKkuGxfQmX"
      }
    },
    {
      "cell_type": "code",
      "source": [
        "#Se clona el proyecto\n",
        "!git clone https://github.com/Dvn2014/Evidence2AnaliticaData.git"
      ],
      "metadata": {
        "id": "KNQUW_Yco2YS",
        "colab": {
          "base_uri": "https://localhost:8080/"
        },
        "outputId": "b4e0c87e-5024-45be-abe7-2129fb2492d9"
      },
      "execution_count": 4,
      "outputs": [
        {
          "output_type": "stream",
          "name": "stdout",
          "text": [
            "fatal: destination path 'Evidence2AnaliticaData' already exists and is not an empty directory.\n"
          ]
        }
      ]
    },
    {
      "cell_type": "markdown",
      "source": [
        "hwllo"
      ],
      "metadata": {
        "id": "NFHztcaLrYge"
      }
    },
    {
      "cell_type": "code",
      "source": [
        "!li"
      ],
      "metadata": {
        "colab": {
          "base_uri": "https://localhost:8080/"
        },
        "id": "fWVK8ynzrrC-",
        "outputId": "eb4318e8-f2d5-4bfc-d1a6-e8efb23fc1ab"
      },
      "execution_count": 5,
      "outputs": [
        {
          "output_type": "stream",
          "name": "stdout",
          "text": [
            "/bin/bash: line 1: li: command not found\n"
          ]
        }
      ]
    }
  ]
}